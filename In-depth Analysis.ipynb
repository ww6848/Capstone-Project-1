{
 "cells": [
  {
   "cell_type": "markdown",
   "metadata": {},
   "source": [
    "# Capstone Project 1-In-Depth Analysis"
   ]
  },
  {
   "cell_type": "markdown",
   "metadata": {},
   "source": [
    "## 1.  Import modules and datasets"
   ]
  },
  {
   "cell_type": "markdown",
   "metadata": {},
   "source": [
    "### 1.1 Import relevant modules"
   ]
  },
  {
   "cell_type": "code",
   "execution_count": 2,
   "metadata": {},
   "outputs": [],
   "source": [
    "import pandas as pd\n",
    "import numpy as np\n",
    "import matplotlib.pyplot as plt"
   ]
  },
  {
   "cell_type": "markdown",
   "metadata": {},
   "source": [
    "### 1.2 Import dataset"
   ]
  },
  {
   "cell_type": "code",
   "execution_count": 3,
   "metadata": {},
   "outputs": [
    {
     "data": {
      "text/html": [
       "<div>\n",
       "<style scoped>\n",
       "    .dataframe tbody tr th:only-of-type {\n",
       "        vertical-align: middle;\n",
       "    }\n",
       "\n",
       "    .dataframe tbody tr th {\n",
       "        vertical-align: top;\n",
       "    }\n",
       "\n",
       "    .dataframe thead th {\n",
       "        text-align: right;\n",
       "    }\n",
       "</style>\n",
       "<table border=\"1\" class=\"dataframe\">\n",
       "  <thead>\n",
       "    <tr style=\"text-align: right;\">\n",
       "      <th></th>\n",
       "      <th>user_id</th>\n",
       "      <th>product_id</th>\n",
       "      <th>gender</th>\n",
       "      <th>age</th>\n",
       "      <th>occupation</th>\n",
       "      <th>city_category</th>\n",
       "      <th>stay_in_current_city_years</th>\n",
       "      <th>marital_status</th>\n",
       "      <th>product_category_1</th>\n",
       "      <th>product_category_2</th>\n",
       "      <th>product_category_3</th>\n",
       "      <th>purchase</th>\n",
       "      <th>product_category_num</th>\n",
       "    </tr>\n",
       "  </thead>\n",
       "  <tbody>\n",
       "    <tr>\n",
       "      <th>0</th>\n",
       "      <td>1000001</td>\n",
       "      <td>P00069042</td>\n",
       "      <td>F</td>\n",
       "      <td>0-17</td>\n",
       "      <td>10</td>\n",
       "      <td>A</td>\n",
       "      <td>2</td>\n",
       "      <td>0</td>\n",
       "      <td>3</td>\n",
       "      <td>0</td>\n",
       "      <td>0</td>\n",
       "      <td>8370</td>\n",
       "      <td>1</td>\n",
       "    </tr>\n",
       "    <tr>\n",
       "      <th>1</th>\n",
       "      <td>1000001</td>\n",
       "      <td>P00248942</td>\n",
       "      <td>F</td>\n",
       "      <td>0-17</td>\n",
       "      <td>10</td>\n",
       "      <td>A</td>\n",
       "      <td>2</td>\n",
       "      <td>0</td>\n",
       "      <td>1</td>\n",
       "      <td>6</td>\n",
       "      <td>14</td>\n",
       "      <td>15200</td>\n",
       "      <td>3</td>\n",
       "    </tr>\n",
       "    <tr>\n",
       "      <th>2</th>\n",
       "      <td>1000001</td>\n",
       "      <td>P00087842</td>\n",
       "      <td>F</td>\n",
       "      <td>0-17</td>\n",
       "      <td>10</td>\n",
       "      <td>A</td>\n",
       "      <td>2</td>\n",
       "      <td>0</td>\n",
       "      <td>12</td>\n",
       "      <td>0</td>\n",
       "      <td>0</td>\n",
       "      <td>1422</td>\n",
       "      <td>1</td>\n",
       "    </tr>\n",
       "    <tr>\n",
       "      <th>3</th>\n",
       "      <td>1000001</td>\n",
       "      <td>P00085442</td>\n",
       "      <td>F</td>\n",
       "      <td>0-17</td>\n",
       "      <td>10</td>\n",
       "      <td>A</td>\n",
       "      <td>2</td>\n",
       "      <td>0</td>\n",
       "      <td>12</td>\n",
       "      <td>14</td>\n",
       "      <td>0</td>\n",
       "      <td>1057</td>\n",
       "      <td>2</td>\n",
       "    </tr>\n",
       "    <tr>\n",
       "      <th>4</th>\n",
       "      <td>1000002</td>\n",
       "      <td>P00285442</td>\n",
       "      <td>M</td>\n",
       "      <td>55+</td>\n",
       "      <td>16</td>\n",
       "      <td>C</td>\n",
       "      <td>4+</td>\n",
       "      <td>0</td>\n",
       "      <td>8</td>\n",
       "      <td>0</td>\n",
       "      <td>0</td>\n",
       "      <td>7969</td>\n",
       "      <td>1</td>\n",
       "    </tr>\n",
       "  </tbody>\n",
       "</table>\n",
       "</div>"
      ],
      "text/plain": [
       "   user_id product_id gender   age  occupation city_category  \\\n",
       "0  1000001  P00069042      F  0-17          10             A   \n",
       "1  1000001  P00248942      F  0-17          10             A   \n",
       "2  1000001  P00087842      F  0-17          10             A   \n",
       "3  1000001  P00085442      F  0-17          10             A   \n",
       "4  1000002  P00285442      M   55+          16             C   \n",
       "\n",
       "  stay_in_current_city_years  marital_status  product_category_1  \\\n",
       "0                          2               0                   3   \n",
       "1                          2               0                   1   \n",
       "2                          2               0                  12   \n",
       "3                          2               0                  12   \n",
       "4                         4+               0                   8   \n",
       "\n",
       "   product_category_2  product_category_3  purchase  product_category_num  \n",
       "0                   0                   0      8370                     1  \n",
       "1                   6                  14     15200                     3  \n",
       "2                   0                   0      1422                     1  \n",
       "3                  14                   0      1057                     2  \n",
       "4                   0                   0      7969                     1  "
      ]
     },
     "execution_count": 3,
     "metadata": {},
     "output_type": "execute_result"
    }
   ],
   "source": [
    "df=pd.read_csv('blackfriday_clean.csv',index_col=0)\n",
    "df.head()"
   ]
  },
  {
   "cell_type": "markdown",
   "metadata": {},
   "source": [
    "### 1.3 Preprocess dataset for purchase level prediction "
   ]
  },
  {
   "cell_type": "code",
   "execution_count": 4,
   "metadata": {},
   "outputs": [
    {
     "data": {
      "text/html": [
       "<div>\n",
       "<style scoped>\n",
       "    .dataframe tbody tr th:only-of-type {\n",
       "        vertical-align: middle;\n",
       "    }\n",
       "\n",
       "    .dataframe tbody tr th {\n",
       "        vertical-align: top;\n",
       "    }\n",
       "\n",
       "    .dataframe thead th {\n",
       "        text-align: right;\n",
       "    }\n",
       "</style>\n",
       "<table border=\"1\" class=\"dataframe\">\n",
       "  <thead>\n",
       "    <tr style=\"text-align: right;\">\n",
       "      <th></th>\n",
       "      <th>user_id</th>\n",
       "      <th>gender</th>\n",
       "      <th>age</th>\n",
       "      <th>occupation</th>\n",
       "      <th>city_category</th>\n",
       "      <th>stay_in_current_city_years</th>\n",
       "      <th>marital_status</th>\n",
       "      <th>purchase</th>\n",
       "    </tr>\n",
       "  </thead>\n",
       "  <tbody>\n",
       "    <tr>\n",
       "      <th>0</th>\n",
       "      <td>1000001</td>\n",
       "      <td>F</td>\n",
       "      <td>0-17</td>\n",
       "      <td>10</td>\n",
       "      <td>A</td>\n",
       "      <td>2</td>\n",
       "      <td>0</td>\n",
       "      <td>333481</td>\n",
       "    </tr>\n",
       "    <tr>\n",
       "      <th>1</th>\n",
       "      <td>1000002</td>\n",
       "      <td>M</td>\n",
       "      <td>55+</td>\n",
       "      <td>16</td>\n",
       "      <td>C</td>\n",
       "      <td>4+</td>\n",
       "      <td>0</td>\n",
       "      <td>810353</td>\n",
       "    </tr>\n",
       "    <tr>\n",
       "      <th>2</th>\n",
       "      <td>1000003</td>\n",
       "      <td>M</td>\n",
       "      <td>26-35</td>\n",
       "      <td>15</td>\n",
       "      <td>A</td>\n",
       "      <td>3</td>\n",
       "      <td>0</td>\n",
       "      <td>341635</td>\n",
       "    </tr>\n",
       "    <tr>\n",
       "      <th>3</th>\n",
       "      <td>1000004</td>\n",
       "      <td>M</td>\n",
       "      <td>46-50</td>\n",
       "      <td>7</td>\n",
       "      <td>B</td>\n",
       "      <td>2</td>\n",
       "      <td>1</td>\n",
       "      <td>205987</td>\n",
       "    </tr>\n",
       "    <tr>\n",
       "      <th>4</th>\n",
       "      <td>1000005</td>\n",
       "      <td>M</td>\n",
       "      <td>26-35</td>\n",
       "      <td>20</td>\n",
       "      <td>A</td>\n",
       "      <td>1</td>\n",
       "      <td>1</td>\n",
       "      <td>821001</td>\n",
       "    </tr>\n",
       "  </tbody>\n",
       "</table>\n",
       "</div>"
      ],
      "text/plain": [
       "   user_id gender    age  occupation city_category stay_in_current_city_years  \\\n",
       "0  1000001      F   0-17          10             A                          2   \n",
       "1  1000002      M    55+          16             C                         4+   \n",
       "2  1000003      M  26-35          15             A                          3   \n",
       "3  1000004      M  46-50           7             B                          2   \n",
       "4  1000005      M  26-35          20             A                          1   \n",
       "\n",
       "   marital_status  purchase  \n",
       "0               0    333481  \n",
       "1               0    810353  \n",
       "2               0    341635  \n",
       "3               1    205987  \n",
       "4               1    821001  "
      ]
     },
     "execution_count": 4,
     "metadata": {},
     "output_type": "execute_result"
    }
   ],
   "source": [
    "df_pa=df.pivot_table(values='purchase',index=['user_id','gender','age','occupation','city_category','stay_in_current_city_years','marital_status'],aggfunc=np.sum)\n",
    "df_pa=df_pa.reset_index()\n",
    "df_pa.head()"
   ]
  },
  {
   "cell_type": "markdown",
   "metadata": {},
   "source": [
    "In order to conduct the Chi-square test of independence between purchase levels and different parameters, total purchase amounts are categorized into different categories. In this case, categories are chosen based on every 10000 interval of purchase amounts, 0, 1, 2, 3, 4 correspond to purchase amounts of 0-1,000,000, 1,000,000-2,000,000, 2,000,000-3,000,000, 3,000,000-4,000,000, above 4,000,000, respectively."
   ]
  },
  {
   "cell_type": "code",
   "execution_count": 5,
   "metadata": {},
   "outputs": [
    {
     "name": "stdout",
     "output_type": "stream",
     "text": [
      "0    4270\n",
      "1    1008\n",
      "2     375\n",
      "3     139\n",
      "4      99\n",
      "Name: purchase level, dtype: int64\n"
     ]
    },
    {
     "data": {
      "image/png": "[encoded data removed]",
      "text/plain": [
       "<Figure size 432x288 with 1 Axes>"
      ]
     },
     "metadata": {
      "needs_background": "light"
     },
     "output_type": "display_data"
    }
   ],
   "source": [
    "df_pa['purchase level']=[v//1000000 if v<4000000 else 4 for v in df_pa['purchase']]\n",
    "print(df_pa['purchase level'].value_counts())\n",
    "df_pa_count=df_pa['purchase level'].value_counts()\n",
    "_=plt.plot(df_pa_count.index,df_pa_count.values,marker='*',markersize=12,linestyle='none')\n",
    "_=plt.xticks(df_pa_count.index)\n",
    "_=plt.xlim(right=4.5)\n",
    "_=plt.xlabel('Purchase Level')\n",
    "_=plt.ylabel('Customer Number')\n",
    "for a,b in zip(df_pa_count.index,df_pa_count.values):\n",
    "    _=plt.text(a+0.3, b, '%d' % b, ha='center', va= 'bottom',fontsize=9)"
   ]
  },
  {
   "cell_type": "code",
   "execution_count": 6,
   "metadata": {},
   "outputs": [
    {
     "data": {
      "text/html": [
       "<div>\n",
       "<style scoped>\n",
       "    .dataframe tbody tr th:only-of-type {\n",
       "        vertical-align: middle;\n",
       "    }\n",
       "\n",
       "    .dataframe tbody tr th {\n",
       "        vertical-align: top;\n",
       "    }\n",
       "\n",
       "    .dataframe thead th {\n",
       "        text-align: right;\n",
       "    }\n",
       "</style>\n",
       "<table border=\"1\" class=\"dataframe\">\n",
       "  <thead>\n",
       "    <tr style=\"text-align: right;\">\n",
       "      <th></th>\n",
       "      <th>user_id</th>\n",
       "      <th>gender</th>\n",
       "      <th>age</th>\n",
       "      <th>occupation</th>\n",
       "      <th>city_category</th>\n",
       "      <th>stay_in_current_city_years</th>\n",
       "      <th>marital_status</th>\n",
       "      <th>purchase</th>\n",
       "      <th>purchase level</th>\n",
       "    </tr>\n",
       "  </thead>\n",
       "  <tbody>\n",
       "    <tr>\n",
       "      <th>0</th>\n",
       "      <td>1000001</td>\n",
       "      <td>F</td>\n",
       "      <td>0-17</td>\n",
       "      <td>10</td>\n",
       "      <td>A</td>\n",
       "      <td>2</td>\n",
       "      <td>0</td>\n",
       "      <td>333481</td>\n",
       "      <td>0</td>\n",
       "    </tr>\n",
       "    <tr>\n",
       "      <th>1</th>\n",
       "      <td>1000002</td>\n",
       "      <td>M</td>\n",
       "      <td>55+</td>\n",
       "      <td>16</td>\n",
       "      <td>C</td>\n",
       "      <td>4+</td>\n",
       "      <td>0</td>\n",
       "      <td>810353</td>\n",
       "      <td>0</td>\n",
       "    </tr>\n",
       "    <tr>\n",
       "      <th>2</th>\n",
       "      <td>1000003</td>\n",
       "      <td>M</td>\n",
       "      <td>26-35</td>\n",
       "      <td>15</td>\n",
       "      <td>A</td>\n",
       "      <td>3</td>\n",
       "      <td>0</td>\n",
       "      <td>341635</td>\n",
       "      <td>0</td>\n",
       "    </tr>\n",
       "    <tr>\n",
       "      <th>3</th>\n",
       "      <td>1000004</td>\n",
       "      <td>M</td>\n",
       "      <td>46-50</td>\n",
       "      <td>7</td>\n",
       "      <td>B</td>\n",
       "      <td>2</td>\n",
       "      <td>1</td>\n",
       "      <td>205987</td>\n",
       "      <td>0</td>\n",
       "    </tr>\n",
       "    <tr>\n",
       "      <th>4</th>\n",
       "      <td>1000005</td>\n",
       "      <td>M</td>\n",
       "      <td>26-35</td>\n",
       "      <td>20</td>\n",
       "      <td>A</td>\n",
       "      <td>1</td>\n",
       "      <td>1</td>\n",
       "      <td>821001</td>\n",
       "      <td>0</td>\n",
       "    </tr>\n",
       "  </tbody>\n",
       "</table>\n",
       "</div>"
      ],
      "text/plain": [
       "   user_id gender    age  occupation city_category stay_in_current_city_years  \\\n",
       "0  1000001      F   0-17          10             A                          2   \n",
       "1  1000002      M    55+          16             C                         4+   \n",
       "2  1000003      M  26-35          15             A                          3   \n",
       "3  1000004      M  46-50           7             B                          2   \n",
       "4  1000005      M  26-35          20             A                          1   \n",
       "\n",
       "   marital_status  purchase  purchase level  \n",
       "0               0    333481               0  \n",
       "1               0    810353               0  \n",
       "2               0    341635               0  \n",
       "3               1    205987               0  \n",
       "4               1    821001               0  "
      ]
     },
     "execution_count": 6,
     "metadata": {},
     "output_type": "execute_result"
    }
   ],
   "source": [
    "df_pa.head()"
   ]
  },
  {
   "cell_type": "code",
   "execution_count": 7,
   "metadata": {},
   "outputs": [
    {
     "data": {
      "text/html": [
       "<div>\n",
       "<style scoped>\n",
       "    .dataframe tbody tr th:only-of-type {\n",
       "        vertical-align: middle;\n",
       "    }\n",
       "\n",
       "    .dataframe tbody tr th {\n",
       "        vertical-align: top;\n",
       "    }\n",
       "\n",
       "    .dataframe thead th {\n",
       "        text-align: right;\n",
       "    }\n",
       "</style>\n",
       "<table border=\"1\" class=\"dataframe\">\n",
       "  <thead>\n",
       "    <tr style=\"text-align: right;\">\n",
       "      <th></th>\n",
       "      <th>user_id</th>\n",
       "      <th>gender</th>\n",
       "      <th>age</th>\n",
       "      <th>occupation</th>\n",
       "      <th>city_category</th>\n",
       "      <th>stay_in_current_city_years</th>\n",
       "      <th>marital_status</th>\n",
       "      <th>purchase level</th>\n",
       "    </tr>\n",
       "  </thead>\n",
       "  <tbody>\n",
       "    <tr>\n",
       "      <th>0</th>\n",
       "      <td>1000001</td>\n",
       "      <td>F</td>\n",
       "      <td>0-17</td>\n",
       "      <td>10</td>\n",
       "      <td>A</td>\n",
       "      <td>2</td>\n",
       "      <td>0</td>\n",
       "      <td>0</td>\n",
       "    </tr>\n",
       "    <tr>\n",
       "      <th>1</th>\n",
       "      <td>1000002</td>\n",
       "      <td>M</td>\n",
       "      <td>55+</td>\n",
       "      <td>16</td>\n",
       "      <td>C</td>\n",
       "      <td>4+</td>\n",
       "      <td>0</td>\n",
       "      <td>0</td>\n",
       "    </tr>\n",
       "    <tr>\n",
       "      <th>2</th>\n",
       "      <td>1000003</td>\n",
       "      <td>M</td>\n",
       "      <td>26-35</td>\n",
       "      <td>15</td>\n",
       "      <td>A</td>\n",
       "      <td>3</td>\n",
       "      <td>0</td>\n",
       "      <td>0</td>\n",
       "    </tr>\n",
       "    <tr>\n",
       "      <th>3</th>\n",
       "      <td>1000004</td>\n",
       "      <td>M</td>\n",
       "      <td>46-50</td>\n",
       "      <td>7</td>\n",
       "      <td>B</td>\n",
       "      <td>2</td>\n",
       "      <td>1</td>\n",
       "      <td>0</td>\n",
       "    </tr>\n",
       "    <tr>\n",
       "      <th>4</th>\n",
       "      <td>1000005</td>\n",
       "      <td>M</td>\n",
       "      <td>26-35</td>\n",
       "      <td>20</td>\n",
       "      <td>A</td>\n",
       "      <td>1</td>\n",
       "      <td>1</td>\n",
       "      <td>0</td>\n",
       "    </tr>\n",
       "  </tbody>\n",
       "</table>\n",
       "</div>"
      ],
      "text/plain": [
       "   user_id gender    age  occupation city_category stay_in_current_city_years  \\\n",
       "0  1000001      F   0-17          10             A                          2   \n",
       "1  1000002      M    55+          16             C                         4+   \n",
       "2  1000003      M  26-35          15             A                          3   \n",
       "3  1000004      M  46-50           7             B                          2   \n",
       "4  1000005      M  26-35          20             A                          1   \n",
       "\n",
       "   marital_status  purchase level  \n",
       "0               0               0  \n",
       "1               0               0  \n",
       "2               0               0  \n",
       "3               1               0  \n",
       "4               1               0  "
      ]
     },
     "execution_count": 7,
     "metadata": {},
     "output_type": "execute_result"
    }
   ],
   "source": [
    "df_pa=df_pa.drop(['purchase'],axis=1)\n",
    "df_pa.head()"
   ]
  },
  {
   "cell_type": "markdown",
   "metadata": {},
   "source": [
    "### 1.4 Preprocess dataset for product category prediction"
   ]
  },
  {
   "cell_type": "code",
   "execution_count": 8,
   "metadata": {},
   "outputs": [
    {
     "name": "stdout",
     "output_type": "stream",
     "text": [
      "8     2024\n",
      "1     2002\n",
      "5      938\n",
      "15     243\n",
      "16     205\n",
      "2      111\n",
      "14      93\n",
      "11      66\n",
      "6       44\n",
      "4       43\n",
      "10      37\n",
      "3       24\n",
      "17      19\n",
      "13      12\n",
      "9        8\n",
      "7        7\n",
      "12       6\n",
      "18       2\n",
      "Name: product_category, dtype: int64\n"
     ]
    },
    {
     "data": {
      "image/png": "[encoded data removed]",
      "text/plain": [
       "<Figure size 432x288 with 1 Axes>"
      ]
     },
     "metadata": {
      "needs_background": "light"
     },
     "output_type": "display_data"
    }
   ],
   "source": [
    "df_pc1=pd.melt(df,id_vars=['user_id','gender','age','occupation','city_category','stay_in_current_city_years','marital_status','purchase'],value_vars=['product_category_1','product_category_2','product_category_3'])\n",
    "df_pc1=df_pc1.pivot_table(values='purchase',index=['user_id','gender','age','occupation','city_category','stay_in_current_city_years','marital_status','value'],aggfunc=np.sum)\n",
    "df_pc1=df_pc1.reset_index()\n",
    "df_pc1=df_pc1[(df_pc1.value!=0)]\n",
    "df_pc2=df_pc1.pivot_table(values='purchase',index=['user_id','gender','age','occupation','city_category','stay_in_current_city_years','marital_status'],aggfunc=np.max)\n",
    "df_pc2=df_pc2.reset_index()\n",
    "df_pc2.columns=['user_id','gender','age','occupation','city_category','stay_in_current_city_years','marital_status','max_purchase']\n",
    "df_pc1.columns=['user_id','gender','age','occupation','city_category','stay_in_current_city_years','marital_status','product_category','purchase']\n",
    "df_pc=pd.merge(df_pc1,df_pc2,on=['user_id','gender','age','occupation','city_category','stay_in_current_city_years','marital_status'])\n",
    "df_pc=df_pc[df_pc.purchase==df_pc.max_purchase]\n",
    "df_pc['user_id'].value_counts()\n",
    "df_pc=df_pc[(df_pc.user_id!=1004553) & (df_pc.user_id!=1004597) & (df_pc.user_id!=1000250) & (df_pc.user_id!=1005383) & (df_pc.user_id!=1005904) & (df_pc.user_id!=1000041) & (df_pc.user_id!=1005320)]\n",
    "print(df_pc['product_category'].value_counts())\n",
    "df_pc_count=df_pc['product_category'].value_counts()\n",
    "_=plt.plot(df_pc_count.index,df_pc_count.values,marker='*',markersize=12,linestyle='none')\n",
    "_=plt.xticks(df_pc_count.index)\n",
    "_=plt.ylim(top=2200)\n",
    "_=plt.xlabel('Product Category')\n",
    "_=plt.ylabel('Customer Number')\n",
    "for a,b in zip(df_pc_count.index,df_pc_count.values):\n",
    "    _=plt.text(a+0.3, b+50, '%d' % b, ha='center', va= 'bottom',fontsize=9)"
   ]
  },
  {
   "cell_type": "code",
   "execution_count": 9,
   "metadata": {},
   "outputs": [
    {
     "data": {
      "text/html": [
       "<div>\n",
       "<style scoped>\n",
       "    .dataframe tbody tr th:only-of-type {\n",
       "        vertical-align: middle;\n",
       "    }\n",
       "\n",
       "    .dataframe tbody tr th {\n",
       "        vertical-align: top;\n",
       "    }\n",
       "\n",
       "    .dataframe thead th {\n",
       "        text-align: right;\n",
       "    }\n",
       "</style>\n",
       "<table border=\"1\" class=\"dataframe\">\n",
       "  <thead>\n",
       "    <tr style=\"text-align: right;\">\n",
       "      <th></th>\n",
       "      <th>user_id</th>\n",
       "      <th>gender</th>\n",
       "      <th>age</th>\n",
       "      <th>occupation</th>\n",
       "      <th>city_category</th>\n",
       "      <th>stay_in_current_city_years</th>\n",
       "      <th>marital_status</th>\n",
       "      <th>product_category</th>\n",
       "    </tr>\n",
       "  </thead>\n",
       "  <tbody>\n",
       "    <tr>\n",
       "      <th>3</th>\n",
       "      <td>1000001</td>\n",
       "      <td>F</td>\n",
       "      <td>0-17</td>\n",
       "      <td>10</td>\n",
       "      <td>A</td>\n",
       "      <td>2</td>\n",
       "      <td>0</td>\n",
       "      <td>4</td>\n",
       "    </tr>\n",
       "    <tr>\n",
       "      <th>17</th>\n",
       "      <td>1000002</td>\n",
       "      <td>M</td>\n",
       "      <td>55+</td>\n",
       "      <td>16</td>\n",
       "      <td>C</td>\n",
       "      <td>4+</td>\n",
       "      <td>0</td>\n",
       "      <td>8</td>\n",
       "    </tr>\n",
       "    <tr>\n",
       "      <th>27</th>\n",
       "      <td>1000003</td>\n",
       "      <td>M</td>\n",
       "      <td>26-35</td>\n",
       "      <td>15</td>\n",
       "      <td>A</td>\n",
       "      <td>3</td>\n",
       "      <td>0</td>\n",
       "      <td>1</td>\n",
       "    </tr>\n",
       "    <tr>\n",
       "      <th>38</th>\n",
       "      <td>1000004</td>\n",
       "      <td>M</td>\n",
       "      <td>46-50</td>\n",
       "      <td>7</td>\n",
       "      <td>B</td>\n",
       "      <td>2</td>\n",
       "      <td>1</td>\n",
       "      <td>1</td>\n",
       "    </tr>\n",
       "    <tr>\n",
       "      <th>55</th>\n",
       "      <td>1000005</td>\n",
       "      <td>M</td>\n",
       "      <td>26-35</td>\n",
       "      <td>20</td>\n",
       "      <td>A</td>\n",
       "      <td>1</td>\n",
       "      <td>1</td>\n",
       "      <td>8</td>\n",
       "    </tr>\n",
       "  </tbody>\n",
       "</table>\n",
       "</div>"
      ],
      "text/plain": [
       "    user_id gender    age  occupation city_category  \\\n",
       "3   1000001      F   0-17          10             A   \n",
       "17  1000002      M    55+          16             C   \n",
       "27  1000003      M  26-35          15             A   \n",
       "38  1000004      M  46-50           7             B   \n",
       "55  1000005      M  26-35          20             A   \n",
       "\n",
       "   stay_in_current_city_years  marital_status  product_category  \n",
       "3                           2               0                 4  \n",
       "17                         4+               0                 8  \n",
       "27                          3               0                 1  \n",
       "38                          2               1                 1  \n",
       "55                          1               1                 8  "
      ]
     },
     "execution_count": 9,
     "metadata": {},
     "output_type": "execute_result"
    }
   ],
   "source": [
    "df_pc=df_pc.drop(['purchase','max_purchase'],axis=1)\n",
    "df_pc.head()"
   ]
  },
  {
   "cell_type": "markdown",
   "metadata": {},
   "source": [
    "### 1.5 Change categorical values into numerical values"
   ]
  },
  {
   "cell_type": "code",
   "execution_count": 10,
   "metadata": {},
   "outputs": [
    {
     "data": {
      "text/html": [
       "<div>\n",
       "<style scoped>\n",
       "    .dataframe tbody tr th:only-of-type {\n",
       "        vertical-align: middle;\n",
       "    }\n",
       "\n",
       "    .dataframe tbody tr th {\n",
       "        vertical-align: top;\n",
       "    }\n",
       "\n",
       "    .dataframe thead th {\n",
       "        text-align: right;\n",
       "    }\n",
       "</style>\n",
       "<table border=\"1\" class=\"dataframe\">\n",
       "  <thead>\n",
       "    <tr style=\"text-align: right;\">\n",
       "      <th></th>\n",
       "      <th>user_id</th>\n",
       "      <th>occupation</th>\n",
       "      <th>marital_status</th>\n",
       "      <th>purchase_level</th>\n",
       "      <th>gender</th>\n",
       "      <th>age</th>\n",
       "      <th>city</th>\n",
       "      <th>years</th>\n",
       "    </tr>\n",
       "  </thead>\n",
       "  <tbody>\n",
       "    <tr>\n",
       "      <th>0</th>\n",
       "      <td>1000001</td>\n",
       "      <td>10</td>\n",
       "      <td>0</td>\n",
       "      <td>0</td>\n",
       "      <td>0</td>\n",
       "      <td>0</td>\n",
       "      <td>0</td>\n",
       "      <td>2</td>\n",
       "    </tr>\n",
       "    <tr>\n",
       "      <th>1</th>\n",
       "      <td>1000002</td>\n",
       "      <td>16</td>\n",
       "      <td>0</td>\n",
       "      <td>0</td>\n",
       "      <td>1</td>\n",
       "      <td>6</td>\n",
       "      <td>2</td>\n",
       "      <td>4</td>\n",
       "    </tr>\n",
       "    <tr>\n",
       "      <th>2</th>\n",
       "      <td>1000003</td>\n",
       "      <td>15</td>\n",
       "      <td>0</td>\n",
       "      <td>0</td>\n",
       "      <td>1</td>\n",
       "      <td>2</td>\n",
       "      <td>0</td>\n",
       "      <td>3</td>\n",
       "    </tr>\n",
       "    <tr>\n",
       "      <th>3</th>\n",
       "      <td>1000004</td>\n",
       "      <td>7</td>\n",
       "      <td>1</td>\n",
       "      <td>0</td>\n",
       "      <td>1</td>\n",
       "      <td>4</td>\n",
       "      <td>1</td>\n",
       "      <td>2</td>\n",
       "    </tr>\n",
       "    <tr>\n",
       "      <th>4</th>\n",
       "      <td>1000005</td>\n",
       "      <td>20</td>\n",
       "      <td>1</td>\n",
       "      <td>0</td>\n",
       "      <td>1</td>\n",
       "      <td>2</td>\n",
       "      <td>0</td>\n",
       "      <td>1</td>\n",
       "    </tr>\n",
       "  </tbody>\n",
       "</table>\n",
       "</div>"
      ],
      "text/plain": [
       "   user_id  occupation  marital_status  purchase_level  gender  age  city  \\\n",
       "0  1000001          10               0               0       0    0     0   \n",
       "1  1000002          16               0               0       1    6     2   \n",
       "2  1000003          15               0               0       1    2     0   \n",
       "3  1000004           7               1               0       1    4     1   \n",
       "4  1000005          20               1               0       1    2     0   \n",
       "\n",
       "  years  \n",
       "0     2  \n",
       "1     4  \n",
       "2     3  \n",
       "3     2  \n",
       "4     1  "
      ]
     },
     "execution_count": 10,
     "metadata": {},
     "output_type": "execute_result"
    }
   ],
   "source": [
    "df_pa['gender1']=[0 if v=='F' else 1 for v in df_pa['gender']]\n",
    "\n",
    "age1=[]\n",
    "for row in df_pa['age']:\n",
    "    if row=='0-17':\n",
    "        age1.append(0)\n",
    "    elif row=='18-25':\n",
    "        age1.append(1)\n",
    "    elif row=='26-35':\n",
    "        age1.append(2)\n",
    "    elif row=='36-45':\n",
    "        age1.append(3)\n",
    "    elif row=='46-50':\n",
    "        age1.append(4)\n",
    "    elif row=='51-55':\n",
    "        age1.append(5)\n",
    "    elif row=='55+':\n",
    "        age1.append(6)\n",
    "df_pa['age1']=age1\n",
    "\n",
    "city1=[]\n",
    "for row in df_pa['city_category']:\n",
    "    if row=='A':\n",
    "        city1.append(0)\n",
    "    if row=='B':\n",
    "        city1.append(1)\n",
    "    if row=='C':\n",
    "        city1.append(2)\n",
    "df_pa['city1']=city1\n",
    "\n",
    "df_pa['stay_in_current_city_years1']=[4 if v=='4+' else v for v in df_pa['stay_in_current_city_years']]\n",
    "df_pa=df_pa.drop(['gender','age','city_category','stay_in_current_city_years'],axis=1)\n",
    "df_pa.columns=['user_id','occupation','marital_status','purchase_level','gender','age','city','years']\n",
    "df_pa.head()"
   ]
  },
  {
   "cell_type": "code",
   "execution_count": 11,
   "metadata": {},
   "outputs": [
    {
     "data": {
      "text/html": [
       "<div>\n",
       "<style scoped>\n",
       "    .dataframe tbody tr th:only-of-type {\n",
       "        vertical-align: middle;\n",
       "    }\n",
       "\n",
       "    .dataframe tbody tr th {\n",
       "        vertical-align: top;\n",
       "    }\n",
       "\n",
       "    .dataframe thead th {\n",
       "        text-align: right;\n",
       "    }\n",
       "</style>\n",
       "<table border=\"1\" class=\"dataframe\">\n",
       "  <thead>\n",
       "    <tr style=\"text-align: right;\">\n",
       "      <th></th>\n",
       "      <th>user_id</th>\n",
       "      <th>occupation</th>\n",
       "      <th>marital_status</th>\n",
       "      <th>product_category</th>\n",
       "      <th>gender</th>\n",
       "      <th>age</th>\n",
       "      <th>city</th>\n",
       "      <th>years</th>\n",
       "    </tr>\n",
       "  </thead>\n",
       "  <tbody>\n",
       "    <tr>\n",
       "      <th>3</th>\n",
       "      <td>1000001</td>\n",
       "      <td>10</td>\n",
       "      <td>0</td>\n",
       "      <td>4</td>\n",
       "      <td>0</td>\n",
       "      <td>0</td>\n",
       "      <td>0</td>\n",
       "      <td>2</td>\n",
       "    </tr>\n",
       "    <tr>\n",
       "      <th>17</th>\n",
       "      <td>1000002</td>\n",
       "      <td>16</td>\n",
       "      <td>0</td>\n",
       "      <td>8</td>\n",
       "      <td>1</td>\n",
       "      <td>6</td>\n",
       "      <td>2</td>\n",
       "      <td>4</td>\n",
       "    </tr>\n",
       "    <tr>\n",
       "      <th>27</th>\n",
       "      <td>1000003</td>\n",
       "      <td>15</td>\n",
       "      <td>0</td>\n",
       "      <td>1</td>\n",
       "      <td>1</td>\n",
       "      <td>2</td>\n",
       "      <td>0</td>\n",
       "      <td>3</td>\n",
       "    </tr>\n",
       "    <tr>\n",
       "      <th>38</th>\n",
       "      <td>1000004</td>\n",
       "      <td>7</td>\n",
       "      <td>1</td>\n",
       "      <td>1</td>\n",
       "      <td>1</td>\n",
       "      <td>4</td>\n",
       "      <td>1</td>\n",
       "      <td>2</td>\n",
       "    </tr>\n",
       "    <tr>\n",
       "      <th>55</th>\n",
       "      <td>1000005</td>\n",
       "      <td>20</td>\n",
       "      <td>1</td>\n",
       "      <td>8</td>\n",
       "      <td>1</td>\n",
       "      <td>2</td>\n",
       "      <td>0</td>\n",
       "      <td>1</td>\n",
       "    </tr>\n",
       "  </tbody>\n",
       "</table>\n",
       "</div>"
      ],
      "text/plain": [
       "    user_id  occupation  marital_status  product_category  gender  age  city  \\\n",
       "3   1000001          10               0                 4       0    0     0   \n",
       "17  1000002          16               0                 8       1    6     2   \n",
       "27  1000003          15               0                 1       1    2     0   \n",
       "38  1000004           7               1                 1       1    4     1   \n",
       "55  1000005          20               1                 8       1    2     0   \n",
       "\n",
       "    years  \n",
       "3       2  \n",
       "17      4  \n",
       "27      3  \n",
       "38      2  \n",
       "55      1  "
      ]
     },
     "execution_count": 11,
     "metadata": {},
     "output_type": "execute_result"
    }
   ],
   "source": [
    "df_pc['gender1']=[0 if v=='F' else 1 for v in df_pc['gender']]\n",
    "\n",
    "age1=[]\n",
    "for row in df_pc['age']:\n",
    "    if row=='0-17':\n",
    "        age1.append(0)\n",
    "    elif row=='18-25':\n",
    "        age1.append(1)\n",
    "    elif row=='26-35':\n",
    "        age1.append(2)\n",
    "    elif row=='36-45':\n",
    "        age1.append(3)\n",
    "    elif row=='46-50':\n",
    "        age1.append(4)\n",
    "    elif row=='51-55':\n",
    "        age1.append(5)\n",
    "    elif row=='55+':\n",
    "        age1.append(6)\n",
    "df_pc['age1']=age1\n",
    "\n",
    "city1=[]\n",
    "for row in df_pc['city_category']:\n",
    "    if row=='A':\n",
    "        city1.append(0)\n",
    "    if row=='B':\n",
    "        city1.append(1)\n",
    "    if row=='C':\n",
    "        city1.append(2)\n",
    "df_pc['city1']=city1\n",
    "\n",
    "df_pc['stay_in_current_city_years1']=[4 if v=='4+' else v for v in df_pc['stay_in_current_city_years']]\n",
    "df_pc=df_pc.drop(['gender','age','city_category','stay_in_current_city_years'],axis=1)\n",
    "df_pc.columns=['user_id','occupation','marital_status','product_category','gender','age','city','years']\n",
    "df_pc['years']=df_pc['years'].astype(int)\n",
    "df_pc.head()"
   ]
  },
  {
   "cell_type": "markdown",
   "metadata": {},
   "source": [
    "## 2. In-depth analysis on prediction of product category"
   ]
  },
  {
   "cell_type": "markdown",
   "metadata": {},
   "source": [
    "### 2.1 Using K-Nearest Neighbors"
   ]
  },
  {
   "cell_type": "code",
   "execution_count": 12,
   "metadata": {},
   "outputs": [],
   "source": [
    "import numpy as np\n",
    "from sklearn.model_selection import GridSearchCV\n",
    "from sklearn.neighbors import KNeighborsClassifier\n",
    "from sklearn.model_selection import train_test_split\n",
    "from sklearn.metrics import classification_report, confusion_matrix"
   ]
  },
  {
   "cell_type": "code",
   "execution_count": 13,
   "metadata": {},
   "outputs": [],
   "source": [
    "X=df_pc.drop(['user_id','product_category'],axis=1).values\n",
    "y=df_pc['product_category'].values"
   ]
  },
  {
   "cell_type": "code",
   "execution_count": 14,
   "metadata": {},
   "outputs": [
    {
     "name": "stderr",
     "output_type": "stream",
     "text": [
      "C:\\Users\\wanwe\\Anaconda3\\lib\\site-packages\\sklearn\\model_selection\\_split.py:605: Warning: The least populated class in y has only 2 members, which is too few. The minimum number of members in any class cannot be less than n_splits=5.\n",
      "  % (min_groups, self.n_splits)), Warning)\n"
     ]
    },
    {
     "name": "stdout",
     "output_type": "stream",
     "text": [
      "{'n_neighbors': 31}\n",
      "0.3899745114698386\n",
      "[[258   0   0   0   4   0   0 120   0   0   0   0   0   0   0   0   0]\n",
      " [  7   0   0   0   1   0   0  12   0   0   0   0   0   0   0   0   0]\n",
      " [  1   0   0   0   1   0   0   1   0   0   0   0   0   0   0   0   0]\n",
      " [  6   0   0   0   2   0   0   3   0   0   0   0   0   0   0   0   0]\n",
      " [126   0   0   0   8   0   0  75   0   0   0   0   0   0   0   0   0]\n",
      " [  4   0   0   0   0   0   0   4   0   0   0   0   0   0   0   0   0]\n",
      " [  0   0   0   0   0   0   0   1   0   0   0   0   0   0   0   0   0]\n",
      " [187   0   0   0   6   0   0 193   0   0   0   0   0   0   0   0   0]\n",
      " [  2   0   0   0   0   0   0   1   0   0   0   0   0   0   0   0   0]\n",
      " [  6   0   0   0   0   0   0   6   0   0   0   0   0   0   0   0   0]\n",
      " [ 12   0   0   0   1   0   0   3   0   0   0   0   0   0   0   0   0]\n",
      " [  1   0   0   0   0   0   0   1   0   0   0   0   0   0   0   0   0]\n",
      " [  1   0   0   0   0   0   0   2   0   0   0   0   0   0   0   0   0]\n",
      " [  5   0   0   0   0   0   0  10   0   0   0   0   0   0   0   0   0]\n",
      " [ 29   0   0   0   0   0   0  22   0   0   0   0   0   0   0   0   0]\n",
      " [ 32   0   0   0   0   0   0  20   0   0   0   0   0   0   0   0   0]\n",
      " [  1   0   0   0   0   0   0   2   0   0   0   0   0   0   0   0   0]]\n",
      "             precision    recall  f1-score   support\n",
      "\n",
      "          1       0.38      0.68      0.49       382\n",
      "          2       0.00      0.00      0.00        20\n",
      "          3       0.00      0.00      0.00         3\n",
      "          4       0.00      0.00      0.00        11\n",
      "          5       0.35      0.04      0.07       209\n",
      "          6       0.00      0.00      0.00         8\n",
      "          7       0.00      0.00      0.00         1\n",
      "          8       0.41      0.50      0.45       386\n",
      "          9       0.00      0.00      0.00         3\n",
      "         10       0.00      0.00      0.00        12\n",
      "         11       0.00      0.00      0.00        16\n",
      "         12       0.00      0.00      0.00         2\n",
      "         13       0.00      0.00      0.00         3\n",
      "         14       0.00      0.00      0.00        15\n",
      "         15       0.00      0.00      0.00        51\n",
      "         16       0.00      0.00      0.00        52\n",
      "         17       0.00      0.00      0.00         3\n",
      "\n",
      "avg / total       0.32      0.39      0.32      1177\n",
      "\n"
     ]
    },
    {
     "name": "stderr",
     "output_type": "stream",
     "text": [
      "C:\\Users\\wanwe\\Anaconda3\\lib\\site-packages\\sklearn\\metrics\\classification.py:1135: UndefinedMetricWarning: Precision and F-score are ill-defined and being set to 0.0 in labels with no predicted samples.\n",
      "  'precision', 'predicted', average, warn_for)\n"
     ]
    }
   ],
   "source": [
    "param_grid={'n_neighbors':np.arange(1,50)}\n",
    "X_train,X_test,y_train,y_test=train_test_split(X,y,test_size=0.2,random_state=21)\n",
    "knn=KNeighborsClassifier()\n",
    "knn_cv=GridSearchCV(knn,param_grid,cv=5)\n",
    "knn_cv.fit(X_train,y_train)\n",
    "y_pred=knn_cv.predict(X_test)\n",
    "print(knn_cv.best_params_)\n",
    "print(knn_cv.score(X_test,y_test))\n",
    "print(confusion_matrix(y_test,y_pred))\n",
    "print(classification_report(y_test,y_pred))"
   ]
  },
  {
   "cell_type": "markdown",
   "metadata": {},
   "source": [
    "### 2.2 Using SVM"
   ]
  },
  {
   "cell_type": "markdown",
   "metadata": {},
   "source": [
    "#### 2.2.1 Using simple SVM"
   ]
  },
  {
   "cell_type": "code",
   "execution_count": 15,
   "metadata": {
    "scrolled": true
   },
   "outputs": [
    {
     "name": "stdout",
     "output_type": "stream",
     "text": [
      "0.3976210705182668\n",
      "[[333   0   0   0   0   0   0  49   0   0   0   0   0   0   0   0   0]\n",
      " [ 15   0   0   0   0   0   0   5   0   0   0   0   0   0   0   0   0]\n",
      " [  1   0   0   0   0   0   0   2   0   0   0   0   0   0   0   0   0]\n",
      " [  1   0   0   0   0   0   0  10   0   0   0   0   0   0   0   0   0]\n",
      " [152   0   0   0   0   0   0  57   0   0   0   0   0   0   0   0   0]\n",
      " [  4   0   0   0   0   0   0   4   0   0   0   0   0   0   0   0   0]\n",
      " [  0   0   0   0   0   0   0   1   0   0   0   0   0   0   0   0   0]\n",
      " [251   0   0   0   0   0   0 135   0   0   0   0   0   0   0   0   0]\n",
      " [  3   0   0   0   0   0   0   0   0   0   0   0   0   0   0   0   0]\n",
      " [ 12   0   0   0   0   0   0   0   0   0   0   0   0   0   0   0   0]\n",
      " [ 13   0   0   0   0   0   0   3   0   0   0   0   0   0   0   0   0]\n",
      " [  1   0   0   0   0   0   0   1   0   0   0   0   0   0   0   0   0]\n",
      " [  1   0   0   0   0   0   0   2   0   0   0   0   0   0   0   0   0]\n",
      " [  3   0   0   0   0   0   0  12   0   0   0   0   0   0   0   0   0]\n",
      " [ 46   0   0   0   0   0   0   5   0   0   0   0   0   0   0   0   0]\n",
      " [ 41   0   0   0   0   0   0  11   0   0   0   0   0   0   0   0   0]\n",
      " [  3   0   0   0   0   0   0   0   0   0   0   0   0   0   0   0   0]]\n",
      "             precision    recall  f1-score   support\n",
      "\n",
      "          1       0.38      0.87      0.53       382\n",
      "          2       0.00      0.00      0.00        20\n",
      "          3       0.00      0.00      0.00         3\n",
      "          4       0.00      0.00      0.00        11\n",
      "          5       0.00      0.00      0.00       209\n",
      "          6       0.00      0.00      0.00         8\n",
      "          7       0.00      0.00      0.00         1\n",
      "          8       0.45      0.35      0.40       386\n",
      "          9       0.00      0.00      0.00         3\n",
      "         10       0.00      0.00      0.00        12\n",
      "         11       0.00      0.00      0.00        16\n",
      "         12       0.00      0.00      0.00         2\n",
      "         13       0.00      0.00      0.00         3\n",
      "         14       0.00      0.00      0.00        15\n",
      "         15       0.00      0.00      0.00        51\n",
      "         16       0.00      0.00      0.00        52\n",
      "         17       0.00      0.00      0.00         3\n",
      "\n",
      "avg / total       0.27      0.40      0.30      1177\n",
      "\n"
     ]
    },
    {
     "name": "stderr",
     "output_type": "stream",
     "text": [
      "C:\\Users\\wanwe\\Anaconda3\\lib\\site-packages\\sklearn\\metrics\\classification.py:1135: UndefinedMetricWarning: Precision and F-score are ill-defined and being set to 0.0 in labels with no predicted samples.\n",
      "  'precision', 'predicted', average, warn_for)\n"
     ]
    }
   ],
   "source": [
    "from sklearn.svm import SVC\n",
    "svclassifier=SVC(kernel='linear')\n",
    "svclassifier.fit(X_train,y_train)\n",
    "y_pred=svclassifier.predict(X_test)\n",
    "print(svclassifier.score(X_test,y_test))\n",
    "print(confusion_matrix(y_test,y_pred))\n",
    "print(classification_report(y_test,y_pred))"
   ]
  },
  {
   "cell_type": "markdown",
   "metadata": {},
   "source": [
    "#### 2.2.2 Using polynomial kernel"
   ]
  },
  {
   "cell_type": "code",
   "execution_count": 16,
   "metadata": {},
   "outputs": [
    {
     "name": "stdout",
     "output_type": "stream",
     "text": [
      "0.405267629566695\n",
      "[[256   0   0   0   2   0   0 124   0   0   0   0   0   0   0   0   0]\n",
      " [  8   0   0   0   1   0   0  11   0   0   0   0   0   0   0   0   0]\n",
      " [  1   0   0   0   0   0   0   2   0   0   0   0   0   0   0   0   0]\n",
      " [  1   0   0   0   4   0   0   6   0   0   0   0   0   0   0   0   0]\n",
      " [117   0   0   0   3   0   0  89   0   0   0   0   0   0   0   0   0]\n",
      " [  4   0   0   0   0   0   0   4   0   0   0   0   0   0   0   0   0]\n",
      " [  0   0   0   0   0   0   0   1   0   0   0   0   0   0   0   0   0]\n",
      " [165   0   0   0   3   0   0 218   0   0   0   0   0   0   0   0   0]\n",
      " [  2   0   0   0   0   0   0   1   0   0   0   0   0   0   0   0   0]\n",
      " [  5   0   0   0   0   0   0   7   0   0   0   0   0   0   0   0   0]\n",
      " [ 11   0   0   0   0   0   0   5   0   0   0   0   0   0   0   0   0]\n",
      " [  0   0   0   0   0   0   0   2   0   0   0   0   0   0   0   0   0]\n",
      " [  1   0   0   0   0   0   0   2   0   0   0   0   0   0   0   0   0]\n",
      " [  3   0   0   0   0   0   0  12   0   0   0   0   0   0   0   0   0]\n",
      " [ 31   0   0   0   0   0   0  20   0   0   0   0   0   0   0   0   0]\n",
      " [ 33   0   0   0   0   0   0  19   0   0   0   0   0   0   0   0   0]\n",
      " [  2   0   0   0   0   0   0   1   0   0   0   0   0   0   0   0   0]]\n",
      "             precision    recall  f1-score   support\n",
      "\n",
      "          1       0.40      0.67      0.50       382\n",
      "          2       0.00      0.00      0.00        20\n",
      "          3       0.00      0.00      0.00         3\n",
      "          4       0.00      0.00      0.00        11\n",
      "          5       0.23      0.01      0.03       209\n",
      "          6       0.00      0.00      0.00         8\n",
      "          7       0.00      0.00      0.00         1\n",
      "          8       0.42      0.56      0.48       386\n",
      "          9       0.00      0.00      0.00         3\n",
      "         10       0.00      0.00      0.00        12\n",
      "         11       0.00      0.00      0.00        16\n",
      "         12       0.00      0.00      0.00         2\n",
      "         13       0.00      0.00      0.00         3\n",
      "         14       0.00      0.00      0.00        15\n",
      "         15       0.00      0.00      0.00        51\n",
      "         16       0.00      0.00      0.00        52\n",
      "         17       0.00      0.00      0.00         3\n",
      "\n",
      "avg / total       0.31      0.41      0.32      1177\n",
      "\n"
     ]
    },
    {
     "name": "stderr",
     "output_type": "stream",
     "text": [
      "C:\\Users\\wanwe\\Anaconda3\\lib\\site-packages\\sklearn\\metrics\\classification.py:1135: UndefinedMetricWarning: Precision and F-score are ill-defined and being set to 0.0 in labels with no predicted samples.\n",
      "  'precision', 'predicted', average, warn_for)\n"
     ]
    }
   ],
   "source": [
    "svclassifier=SVC(kernel='rbf')\n",
    "svclassifier.fit(X_train,y_train)\n",
    "y_pred=svclassifier.predict(X_test)\n",
    "print(svclassifier.score(X_test,y_test))\n",
    "print(confusion_matrix(y_test,y_pred))\n",
    "print(classification_report(y_test,y_pred))"
   ]
  },
  {
   "cell_type": "markdown",
   "metadata": {},
   "source": [
    "#### 2.2.3 Using sigmoid kernel"
   ]
  },
  {
   "cell_type": "code",
   "execution_count": 17,
   "metadata": {},
   "outputs": [
    {
     "name": "stdout",
     "output_type": "stream",
     "text": [
      "0.2786745964316058\n",
      "[[179   3   0   0   0   0   0 187   0   0   0   0   0   0   0  13   0]\n",
      " [ 12   1   0   0   0   0   0   7   0   0   0   0   0   0   0   0   0]\n",
      " [  2   0   0   0   0   0   0   1   0   0   0   0   0   0   0   0   0]\n",
      " [  3   0   0   0   0   0   0   8   0   0   0   0   0   0   0   0   0]\n",
      " [ 94   1   0   0   0   0   0 100   0   0   0   0   0   0   0  14   0]\n",
      " [  4   0   0   0   0   0   0   4   0   0   0   0   0   0   0   0   0]\n",
      " [  1   0   0   0   0   0   0   0   0   0   0   0   0   0   0   0   0]\n",
      " [214   7   0   0   2   0   0 148   0   0   0   0   0   0   0  15   0]\n",
      " [  2   0   0   0   0   0   0   1   0   0   0   0   0   0   0   0   0]\n",
      " [  6   0   0   0   0   0   0   5   0   0   0   0   0   0   0   1   0]\n",
      " [  7   0   0   0   0   0   0   8   0   0   0   0   0   0   0   1   0]\n",
      " [  1   0   0   0   0   0   0   1   0   0   0   0   0   0   0   0   0]\n",
      " [  1   1   0   0   0   0   0   1   0   0   0   0   0   0   0   0   0]\n",
      " [  8   0   0   0   0   0   0   6   0   0   0   0   0   0   0   1   0]\n",
      " [ 30   0   0   0   0   0   0  21   0   0   0   0   0   0   0   0   0]\n",
      " [ 31   0   0   0   0   0   0  21   0   0   0   0   0   0   0   0   0]\n",
      " [  2   0   0   0   0   0   0   1   0   0   0   0   0   0   0   0   0]]\n",
      "             precision    recall  f1-score   support\n",
      "\n",
      "          1       0.30      0.47      0.37       382\n",
      "          2       0.08      0.05      0.06        20\n",
      "          3       0.00      0.00      0.00         3\n",
      "          4       0.00      0.00      0.00        11\n",
      "          5       0.00      0.00      0.00       209\n",
      "          6       0.00      0.00      0.00         8\n",
      "          7       0.00      0.00      0.00         1\n",
      "          8       0.28      0.38      0.33       386\n",
      "          9       0.00      0.00      0.00         3\n",
      "         10       0.00      0.00      0.00        12\n",
      "         11       0.00      0.00      0.00        16\n",
      "         12       0.00      0.00      0.00         2\n",
      "         13       0.00      0.00      0.00         3\n",
      "         14       0.00      0.00      0.00        15\n",
      "         15       0.00      0.00      0.00        51\n",
      "         16       0.00      0.00      0.00        52\n",
      "         17       0.00      0.00      0.00         3\n",
      "\n",
      "avg / total       0.19      0.28      0.23      1177\n",
      "\n"
     ]
    },
    {
     "name": "stderr",
     "output_type": "stream",
     "text": [
      "C:\\Users\\wanwe\\Anaconda3\\lib\\site-packages\\sklearn\\metrics\\classification.py:1135: UndefinedMetricWarning: Precision and F-score are ill-defined and being set to 0.0 in labels with no predicted samples.\n",
      "  'precision', 'predicted', average, warn_for)\n"
     ]
    }
   ],
   "source": [
    "svclassifier=SVC(kernel='sigmoid')\n",
    "svclassifier.fit(X_train,y_train)\n",
    "y_pred=svclassifier.predict(X_test)\n",
    "print(svclassifier.score(X_test,y_test))\n",
    "print(confusion_matrix(y_test,y_pred))\n",
    "print(classification_report(y_test,y_pred))"
   ]
  },
  {
   "cell_type": "markdown",
   "metadata": {},
   "source": [
    "## 3. In-depth analysis on prediction of purchase level"
   ]
  },
  {
   "cell_type": "markdown",
   "metadata": {},
   "source": [
    "### 3.1 Using K-Nearest Neighbors"
   ]
  },
  {
   "cell_type": "code",
   "execution_count": 18,
   "metadata": {},
   "outputs": [],
   "source": [
    "import numpy as np\n",
    "from sklearn.model_selection import GridSearchCV\n",
    "from sklearn.neighbors import KNeighborsClassifier\n",
    "from sklearn.model_selection import train_test_split\n",
    "from sklearn.metrics import classification_report, confusion_matrix"
   ]
  },
  {
   "cell_type": "code",
   "execution_count": 19,
   "metadata": {},
   "outputs": [],
   "source": [
    "X=df_pa.drop(['user_id','purchase_level'],axis=1).values\n",
    "y=df_pa['purchase_level'].values"
   ]
  },
  {
   "cell_type": "code",
   "execution_count": 21,
   "metadata": {},
   "outputs": [
    {
     "name": "stdout",
     "output_type": "stream",
     "text": [
      "0.73960983884648\n",
      "[[872   2   0   0   0]\n",
      " [196   0   0   0   0]\n",
      " [ 71   0   0   0   0]\n",
      " [ 21   1   0   0   0]\n",
      " [ 16   0   0   0   0]]\n",
      "             precision    recall  f1-score   support\n",
      "\n",
      "          0       0.74      1.00      0.85       874\n",
      "          1       0.00      0.00      0.00       196\n",
      "          2       0.00      0.00      0.00        71\n",
      "          3       0.00      0.00      0.00        22\n",
      "          4       0.00      0.00      0.00        16\n",
      "\n",
      "avg / total       0.55      0.74      0.63      1179\n",
      "\n",
      "{'n_neighbors': 40}\n"
     ]
    },
    {
     "name": "stderr",
     "output_type": "stream",
     "text": [
      "C:\\Users\\wanwe\\Anaconda3\\lib\\site-packages\\sklearn\\metrics\\classification.py:1135: UndefinedMetricWarning: Precision and F-score are ill-defined and being set to 0.0 in labels with no predicted samples.\n",
      "  'precision', 'predicted', average, warn_for)\n"
     ]
    }
   ],
   "source": [
    "param_grid={'n_neighbors':np.arange(1,50)}\n",
    "X_train,X_test,y_train,y_test=train_test_split(X,y,test_size=0.2,random_state=21)\n",
    "knn=KNeighborsClassifier()\n",
    "knn_cv=GridSearchCV(knn,param_grid,cv=5)\n",
    "knn_cv.fit(X_train,y_train)\n",
    "y_pred=knn_cv.predict(X_test)\n",
    "print(knn_cv.score(X_test,y_test))\n",
    "print(confusion_matrix(y_test,y_pred))\n",
    "print(classification_report(y_test,y_pred))\n",
    "print(knn_cv.best_params_)"
   ]
  },
  {
   "cell_type": "markdown",
   "metadata": {},
   "source": [
    "### 3.2 Using SVM"
   ]
  },
  {
   "cell_type": "markdown",
   "metadata": {},
   "source": [
    "#### 3.2.1 Using simple SVM"
   ]
  },
  {
   "cell_type": "code",
   "execution_count": 22,
   "metadata": {},
   "outputs": [
    {
     "name": "stdout",
     "output_type": "stream",
     "text": [
      "0.741306191687871\n",
      "[[874   0   0   0   0]\n",
      " [196   0   0   0   0]\n",
      " [ 71   0   0   0   0]\n",
      " [ 22   0   0   0   0]\n",
      " [ 16   0   0   0   0]]\n",
      "             precision    recall  f1-score   support\n",
      "\n",
      "          0       0.74      1.00      0.85       874\n",
      "          1       0.00      0.00      0.00       196\n",
      "          2       0.00      0.00      0.00        71\n",
      "          3       0.00      0.00      0.00        22\n",
      "          4       0.00      0.00      0.00        16\n",
      "\n",
      "avg / total       0.55      0.74      0.63      1179\n",
      "\n"
     ]
    },
    {
     "name": "stderr",
     "output_type": "stream",
     "text": [
      "C:\\Users\\wanwe\\Anaconda3\\lib\\site-packages\\sklearn\\metrics\\classification.py:1135: UndefinedMetricWarning: Precision and F-score are ill-defined and being set to 0.0 in labels with no predicted samples.\n",
      "  'precision', 'predicted', average, warn_for)\n"
     ]
    }
   ],
   "source": [
    "from sklearn.svm import SVC\n",
    "svclassifier=SVC(kernel='linear')\n",
    "svclassifier.fit(X_train,y_train)\n",
    "y_pred=svclassifier.predict(X_test)\n",
    "print(svclassifier.score(X_test,y_test))\n",
    "print(confusion_matrix(y_test,y_pred))\n",
    "print(classification_report(y_test,y_pred))"
   ]
  },
  {
   "cell_type": "markdown",
   "metadata": {},
   "source": [
    "#### 3.2.2 Using polynomial kernel"
   ]
  },
  {
   "cell_type": "code",
   "execution_count": 23,
   "metadata": {},
   "outputs": [
    {
     "name": "stdout",
     "output_type": "stream",
     "text": [
      "0.741306191687871\n",
      "[[874   0   0   0   0]\n",
      " [196   0   0   0   0]\n",
      " [ 71   0   0   0   0]\n",
      " [ 22   0   0   0   0]\n",
      " [ 16   0   0   0   0]]\n",
      "             precision    recall  f1-score   support\n",
      "\n",
      "          0       0.74      1.00      0.85       874\n",
      "          1       0.00      0.00      0.00       196\n",
      "          2       0.00      0.00      0.00        71\n",
      "          3       0.00      0.00      0.00        22\n",
      "          4       0.00      0.00      0.00        16\n",
      "\n",
      "avg / total       0.55      0.74      0.63      1179\n",
      "\n"
     ]
    },
    {
     "name": "stderr",
     "output_type": "stream",
     "text": [
      "C:\\Users\\wanwe\\Anaconda3\\lib\\site-packages\\sklearn\\metrics\\classification.py:1135: UndefinedMetricWarning: Precision and F-score are ill-defined and being set to 0.0 in labels with no predicted samples.\n",
      "  'precision', 'predicted', average, warn_for)\n"
     ]
    }
   ],
   "source": [
    "svclassifier=SVC(kernel='rbf')\n",
    "svclassifier.fit(X_train,y_train)\n",
    "y_pred=svclassifier.predict(X_test)\n",
    "print(svclassifier.score(X_test,y_test))\n",
    "print(confusion_matrix(y_test,y_pred))\n",
    "print(classification_report(y_test,y_pred))"
   ]
  },
  {
   "cell_type": "markdown",
   "metadata": {},
   "source": [
    "#### 3.2.3 Using sigmoid kernel"
   ]
  },
  {
   "cell_type": "code",
   "execution_count": 24,
   "metadata": {},
   "outputs": [
    {
     "name": "stdout",
     "output_type": "stream",
     "text": [
      "0.6870229007633588\n",
      "[[796   6  53   0  19]\n",
      " [182   2  10   0   2]\n",
      " [ 59   0  12   0   0]\n",
      " [ 19   0   3   0   0]\n",
      " [  9   1   6   0   0]]\n",
      "             precision    recall  f1-score   support\n",
      "\n",
      "          0       0.75      0.91      0.82       874\n",
      "          1       0.22      0.01      0.02       196\n",
      "          2       0.14      0.17      0.15        71\n",
      "          3       0.00      0.00      0.00        22\n",
      "          4       0.00      0.00      0.00        16\n",
      "\n",
      "avg / total       0.60      0.69      0.62      1179\n",
      "\n"
     ]
    },
    {
     "name": "stderr",
     "output_type": "stream",
     "text": [
      "C:\\Users\\wanwe\\Anaconda3\\lib\\site-packages\\sklearn\\metrics\\classification.py:1135: UndefinedMetricWarning: Precision and F-score are ill-defined and being set to 0.0 in labels with no predicted samples.\n",
      "  'precision', 'predicted', average, warn_for)\n"
     ]
    }
   ],
   "source": [
    "svclassifier=SVC(kernel='sigmoid')\n",
    "svclassifier.fit(X_train,y_train)\n",
    "y_pred=svclassifier.predict(X_test)\n",
    "print(svclassifier.score(X_test,y_test))\n",
    "print(confusion_matrix(y_test,y_pred))\n",
    "print(classification_report(y_test,y_pred))"
   ]
  }
 ],
 "metadata": {
  "kernelspec": {
   "display_name": "Python 3",
   "language": "python",
   "name": "python3"
  },
  "language_info": {
   "codemirror_mode": {
    "name": "ipython",
    "version": 3
   },
   "file_extension": ".py",
   "mimetype": "text/x-python",
   "name": "python",
   "nbconvert_exporter": "python",
   "pygments_lexer": "ipython3",
   "version": "3.7.0"
  }
 },
 "nbformat": 4,
 "nbformat_minor": 2
}
