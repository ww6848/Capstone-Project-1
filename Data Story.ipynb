{
 "cells": [
  {
   "cell_type": "markdown",
   "metadata": {},
   "source": [
    "# Capstone Project 1-Data Story"
   ]
  },
  {
   "cell_type": "markdown",
   "metadata": {},
   "source": [
    "## 1. Introduction"
   ]
  },
  {
   "cell_type": "markdown",
   "metadata": {},
   "source": [
    "### The problem:"
   ]
  },
  {
   "cell_type": "markdown",
   "metadata": {},
   "source": [
    "Based on sales observations in a retail store during Black Friday, make decisions on strategy of targeted advertising. For a specific group of people, predict the categories of products they are most likely to buy and include the categories in the advertising email or other advertising method."
   ]
  },
  {
   "cell_type": "markdown",
   "metadata": {},
   "source": [
    "### The dataset:"
   ]
  },
  {
   "cell_type": "markdown",
   "metadata": {},
   "source": [
    "The raw data files in this project are acquired from Kaggle at https://www.kaggle.com/mehdidag/black-friday.\n",
    "\n",
    "The raw csv file is BlackFriday.csv. The file includes dataset of 537,577 observations about the balck Friday in a retail store. It contains different kinds of variables either numerical or categorical including custormer information and purchase information. The variables include 'User_ID', 'Product_ID', 'Gender', 'Age', 'Occupation', 'City_Category', 'Stay_In_Current_City_Years', 'Marital_Status', 'Product_Category_1', 'Product_Category_2', 'Product_Category_3', 'Purchase'.\n",
    "\n",
    "The raw dataset has been imported and cleaned up into blackfriday_clean.csv. The variables in the file include 'user_id', 'product_id', 'gender', 'age', 'occupation', 'city_category', 'stay_in_current_city_years', 'marital_status', 'product_category_1', 'product_category_2', 'product_category_3', 'purchase', 'product_category_num'."
   ]
  },
  {
   "cell_type": "markdown",
   "metadata": {},
   "source": [
    "### The questions of interest:"
   ]
  },
  {
   "cell_type": "markdown",
   "metadata": {},
   "source": [
    "$\\bullet$ How do purchase amounts vary among different genders, among different ages, among different cities, among different marital statuses?\n",
    "\n",
    "$\\bullet$ How do purchase amounts vary among different years staying in current city?\n",
    "\n",
    "$\\bullet$ Rank the product category among different genders, among different ages, among different cities, among different marital statuses? \n"
   ]
  },
  {
   "cell_type": "markdown",
   "metadata": {},
   "source": [
    "## 2. Import modules and datasets\n",
    "### 1) Import relevant modules:"
   ]
  },
  {
   "cell_type": "code",
   "execution_count": 2,
   "metadata": {},
   "outputs": [],
   "source": [
    "import pandas as pd\n",
    "import numpy as np\n",
    "import matplotlib.pyplot as plt\n",
    "import seaborn as sns"
   ]
  },
  {
   "cell_type": "markdown",
   "metadata": {},
   "source": [
    "### 2) Import dataset:"
   ]
  },
  {
   "cell_type": "code",
   "execution_count": 3,
   "metadata": {},
   "outputs": [
    {
     "name": "stdout",
     "output_type": "stream",
     "text": [
      "   user_id product_id gender   age  occupation city_category  \\\n",
      "0  1000001  P00069042      F  0-17          10             A   \n",
      "\n",
      "  stay_in_current_city_years  marital_status  product_category_1  \\\n",
      "0                          2               0                   3   \n",
      "\n",
      "   product_category_2  product_category_3  purchase  product_category_num  \n",
      "0                   0                   0      8370                     1  \n"
     ]
    }
   ],
   "source": [
    "df=pd.read_csv('blackfriday_clean.csv',index_col=0)\n",
    "print(df.head(1))"
   ]
  },
  {
   "cell_type": "markdown",
   "metadata": {},
   "source": [
    "## 3. Purchase amounts variation among genders"
   ]
  },
  {
   "cell_type": "markdown",
   "metadata": {},
   "source": [
    "To understand how purchase amounts vary with genders, purchase amounts are investigated from two perspectives:\n",
    "\n",
    "$\\bullet$ Histograms are plotted to show purchase amount distributions by genders;\n",
    "\n",
    "$\\bullet$ Cumulative density function and boxplot are also plotted to provide quantitative comparisons among genders. "
   ]
  },
  {
   "cell_type": "markdown",
   "metadata": {},
   "source": [
    "### 1) Compare purchase amounts among genders"
   ]
  },
  {
   "cell_type": "code",
   "execution_count": 4,
   "metadata": {},
   "outputs": [
    {
     "data": {
      "image/png": "[encoded data removed]",
      "text/plain": [
       "<Figure size 432x288 with 1 Axes>"
      ]
     },
     "metadata": {
      "needs_background": "light"
     },
     "output_type": "display_data"
    }
   ],
   "source": [
    "pa_by_gender=df.pivot_table(values='purchase',index='user_id',columns='gender',aggfunc=np.sum)\n",
    "\n",
    "for gender in pa_by_gender.columns:\n",
    "    series=pa_by_gender[gender].dropna()\n",
    "    n_bins=int(np.sqrt(len(series)))\n",
    "    _=plt.hist(series,bins=n_bins,density='True',histtype='step',alpha=0.6)\n",
    "    \n",
    "_=plt.xlabel('Purchase amount ($)')\n",
    "_=plt.ylabel('PDF')\n",
    "_=plt.title('Purchase Amount Distribution By Genders')\n",
    "_=plt.legend(pa_by_gender.columns,loc='upper right')\n",
    "plt.margins(0.02)\n",
    "plt.show()"
   ]
  },
  {
   "cell_type": "markdown",
   "metadata": {},
   "source": [
    "### 2) Compare cumulative purchase amounts among genders "
   ]
  },
  {
   "cell_type": "code",
   "execution_count": 5,
   "metadata": {},
   "outputs": [
    {
     "data": {
      "image/png": "[encoded data removed]",
      "text/plain": [
       "<Figure size 432x288 with 1 Axes>"
      ]
     },
     "metadata": {
      "needs_background": "light"
     },
     "output_type": "display_data"
    }
   ],
   "source": [
    "def ecdf(array):\n",
    "    x=np.sort(array)\n",
    "    y=np.arange(1,len(x)+1)/len(x)\n",
    "    return x,y\n",
    "\n",
    "for gender in pa_by_gender.columns:\n",
    "    series=pa_by_gender[gender].dropna()\n",
    "    x,y=ecdf(series)\n",
    "    _=plt.plot(x,y,marker='.',linestyle='none')\n",
    "    \n",
    "_=plt.xlabel('Purchase amount ($)')\n",
    "_=plt.ylabel('ECDF')\n",
    "_=plt.title('Cumulative Purchase Amount By Genders')\n",
    "_=plt.legend(pa_by_gender.columns,loc='lower right')\n",
    "plt.margins(0.02)\n",
    "plt.show()"
   ]
  },
  {
   "cell_type": "markdown",
   "metadata": {},
   "source": [
    "### 3) Summary statistics and boxplots by genders"
   ]
  },
  {
   "cell_type": "code",
   "execution_count": 6,
   "metadata": {},
   "outputs": [
    {
     "data": {
      "text/html": [
       "<div>\n",
       "<style scoped>\n",
       "    .dataframe tbody tr th:only-of-type {\n",
       "        vertical-align: middle;\n",
       "    }\n",
       "\n",
       "    .dataframe tbody tr th {\n",
       "        vertical-align: top;\n",
       "    }\n",
       "\n",
       "    .dataframe thead th {\n",
       "        text-align: right;\n",
       "    }\n",
       "</style>\n",
       "<table border=\"1\" class=\"dataframe\">\n",
       "  <thead>\n",
       "    <tr style=\"text-align: right;\">\n",
       "      <th>gender</th>\n",
       "      <th>F</th>\n",
       "      <th>M</th>\n",
       "    </tr>\n",
       "  </thead>\n",
       "  <tbody>\n",
       "    <tr>\n",
       "      <th>count</th>\n",
       "      <td>1.666000e+03</td>\n",
       "      <td>4.225000e+03</td>\n",
       "    </tr>\n",
       "    <tr>\n",
       "      <th>mean</th>\n",
       "      <td>6.990540e+05</td>\n",
       "      <td>9.119632e+05</td>\n",
       "    </tr>\n",
       "    <tr>\n",
       "      <th>std</th>\n",
       "      <td>7.957381e+05</td>\n",
       "      <td>9.753978e+05</td>\n",
       "    </tr>\n",
       "    <tr>\n",
       "      <th>min</th>\n",
       "      <td>4.410800e+04</td>\n",
       "      <td>4.555100e+04</td>\n",
       "    </tr>\n",
       "    <tr>\n",
       "      <th>25%</th>\n",
       "      <td>2.002452e+05</td>\n",
       "      <td>2.546740e+05</td>\n",
       "    </tr>\n",
       "    <tr>\n",
       "      <th>50%</th>\n",
       "      <td>3.981780e+05</td>\n",
       "      <td>5.659250e+05</td>\n",
       "    </tr>\n",
       "    <tr>\n",
       "      <th>75%</th>\n",
       "      <td>8.637568e+05</td>\n",
       "      <td>1.193530e+06</td>\n",
       "    </tr>\n",
       "    <tr>\n",
       "      <th>max</th>\n",
       "      <td>6.186498e+06</td>\n",
       "      <td>1.053678e+07</td>\n",
       "    </tr>\n",
       "  </tbody>\n",
       "</table>\n",
       "</div>"
      ],
      "text/plain": [
       "gender             F             M\n",
       "count   1.666000e+03  4.225000e+03\n",
       "mean    6.990540e+05  9.119632e+05\n",
       "std     7.957381e+05  9.753978e+05\n",
       "min     4.410800e+04  4.555100e+04\n",
       "25%     2.002452e+05  2.546740e+05\n",
       "50%     3.981780e+05  5.659250e+05\n",
       "75%     8.637568e+05  1.193530e+06\n",
       "max     6.186498e+06  1.053678e+07"
      ]
     },
     "execution_count": 6,
     "metadata": {},
     "output_type": "execute_result"
    }
   ],
   "source": [
    "pa_by_gender.describe()"
   ]
  },
  {
   "cell_type": "code",
   "execution_count": 7,
   "metadata": {},
   "outputs": [
    {
     "data": {
      "image/png": "[encoded data removed]",
      "text/plain": [
       "<Figure size 432x288 with 1 Axes>"
      ]
     },
     "metadata": {
      "needs_background": "light"
     },
     "output_type": "display_data"
    }
   ],
   "source": [
    "_=sns.boxplot(data=pa_by_gender)\n",
    "_=plt.xlabel('Gender')\n",
    "_=plt.ylabel('Purchase amount')\n",
    "_=plt.title('Boxplot of Purchase Amount By Genders')"
   ]
  },
  {
   "cell_type": "markdown",
   "metadata": {},
   "source": [
    "### 4) Summary"
   ]
  },
  {
   "cell_type": "markdown",
   "metadata": {},
   "source": [
    "Totally, there are 5891 users, among them 1666 are females, 4225 are males. The number of male users is about 2.5 times the number of female users.\n",
    "\n",
    "The mean of purchase amount by male is about 1.3 times that by female. The median of purchase amount by male is about 1.4 time that by female."
   ]
  },
  {
   "cell_type": "markdown",
   "metadata": {},
   "source": [
    "## 4. Purchase amounts variation among ages"
   ]
  },
  {
   "cell_type": "markdown",
   "metadata": {},
   "source": [
    "To understand how purchase amounts vary with ages, purchase amounts are investigated from two perspectives:\n",
    "\n",
    "$\\bullet$ Histograms are plotted to show purchase amount distributions by ages;\n",
    "\n",
    "$\\bullet$ Cumulative density function and boxplot are also plotted to provide quantitative comparisons among ages. "
   ]
  },
  {
   "cell_type": "markdown",
   "metadata": {},
   "source": [
    "### 1) Compare purchase amounts among ages"
   ]
  },
  {
   "cell_type": "code",
   "execution_count": 8,
   "metadata": {},
   "outputs": [
    {
     "data": {
      "image/png": "[encoded data removed]",
      "text/plain": [
       "<Figure size 432x288 with 1 Axes>"
      ]
     },
     "metadata": {
      "needs_background": "light"
     },
     "output_type": "display_data"
    }
   ],
   "source": [
    "pa_by_age=df.pivot_table(values='purchase',index='user_id',columns='age',aggfunc=np.sum)\n",
    "\n",
    "for age in pa_by_age.columns:\n",
    "    series=pa_by_age[age].dropna()\n",
    "    n_bins=int(np.sqrt(len(series)))\n",
    "    _=plt.hist(series,bins=n_bins,density='True',histtype='step',alpha=0.6)\n",
    "    \n",
    "_=plt.xlabel('Purchase amount ($)')\n",
    "_=plt.ylabel('PDF')\n",
    "_=plt.title('Purchase Amount Distribution By Ages')\n",
    "_=plt.legend(pa_by_age.columns,loc='upper right')\n",
    "plt.margins(0.02)\n",
    "plt.show()"
   ]
  },
  {
   "cell_type": "markdown",
   "metadata": {},
   "source": [
    "### 2) Compare cumulative purchase amounts among ages "
   ]
  },
  {
   "cell_type": "code",
   "execution_count": 9,
   "metadata": {},
   "outputs": [
    {
     "data": {
      "image/png": "[encoded data removed]",
      "text/plain": [
       "<Figure size 432x288 with 1 Axes>"
      ]
     },
     "metadata": {
      "needs_background": "light"
     },
     "output_type": "display_data"
    }
   ],
   "source": [
    "for age in pa_by_age.columns:\n",
    "    series=pa_by_age[age].dropna()\n",
    "    x,y=ecdf(series)\n",
    "    _=plt.plot(x,y,marker='.',linestyle='none')\n",
    "    \n",
    "_=plt.xlabel('Purchase amount ($)')\n",
    "_=plt.ylabel('ECDF')\n",
    "_=plt.title('Cumulative Purchase Amount By Ages')\n",
    "_=plt.legend(pa_by_age.columns,loc='lower right')\n",
    "plt.margins(0.02)\n",
    "plt.show()"
   ]
  },
  {
   "cell_type": "markdown",
   "metadata": {},
   "source": [
    "### 3) Summary statistics and boxplots by ages"
   ]
  },
  {
   "cell_type": "code",
   "execution_count": 10,
   "metadata": {},
   "outputs": [
    {
     "data": {
      "text/html": [
       "<div>\n",
       "<style scoped>\n",
       "    .dataframe tbody tr th:only-of-type {\n",
       "        vertical-align: middle;\n",
       "    }\n",
       "\n",
       "    .dataframe tbody tr th {\n",
       "        vertical-align: top;\n",
       "    }\n",
       "\n",
       "    .dataframe thead th {\n",
       "        text-align: right;\n",
       "    }\n",
       "</style>\n",
       "<table border=\"1\" class=\"dataframe\">\n",
       "  <thead>\n",
       "    <tr style=\"text-align: right;\">\n",
       "      <th>age</th>\n",
       "      <th>0-17</th>\n",
       "      <th>18-25</th>\n",
       "      <th>26-35</th>\n",
       "      <th>36-45</th>\n",
       "      <th>46-50</th>\n",
       "      <th>51-55</th>\n",
       "      <th>55+</th>\n",
       "    </tr>\n",
       "  </thead>\n",
       "  <tbody>\n",
       "    <tr>\n",
       "      <th>count</th>\n",
       "      <td>2.180000e+02</td>\n",
       "      <td>1.069000e+03</td>\n",
       "      <td>2.053000e+03</td>\n",
       "      <td>1.167000e+03</td>\n",
       "      <td>5.310000e+02</td>\n",
       "      <td>4.810000e+02</td>\n",
       "      <td>3.720000e+02</td>\n",
       "    </tr>\n",
       "    <tr>\n",
       "      <th>mean</th>\n",
       "      <td>6.085276e+05</td>\n",
       "      <td>8.434699e+05</td>\n",
       "      <td>9.740619e+05</td>\n",
       "      <td>8.660236e+05</td>\n",
       "      <td>7.785654e+05</td>\n",
       "      <td>7.524082e+05</td>\n",
       "      <td>5.312227e+05</td>\n",
       "    </tr>\n",
       "    <tr>\n",
       "      <th>std</th>\n",
       "      <td>6.751607e+05</td>\n",
       "      <td>8.787495e+05</td>\n",
       "      <td>1.019681e+06</td>\n",
       "      <td>9.717466e+05</td>\n",
       "      <td>9.173907e+05</td>\n",
       "      <td>7.834689e+05</td>\n",
       "      <td>6.110050e+05</td>\n",
       "    </tr>\n",
       "    <tr>\n",
       "      <th>min</th>\n",
       "      <td>7.590600e+04</td>\n",
       "      <td>4.607000e+04</td>\n",
       "      <td>4.443200e+04</td>\n",
       "      <td>5.590000e+04</td>\n",
       "      <td>6.225000e+04</td>\n",
       "      <td>4.555100e+04</td>\n",
       "      <td>4.410800e+04</td>\n",
       "    </tr>\n",
       "    <tr>\n",
       "      <th>25%</th>\n",
       "      <td>1.889272e+05</td>\n",
       "      <td>2.454890e+05</td>\n",
       "      <td>2.558660e+05</td>\n",
       "      <td>2.441670e+05</td>\n",
       "      <td>2.264920e+05</td>\n",
       "      <td>2.308950e+05</td>\n",
       "      <td>1.756450e+05</td>\n",
       "    </tr>\n",
       "    <tr>\n",
       "      <th>50%</th>\n",
       "      <td>4.045175e+05</td>\n",
       "      <td>5.365670e+05</td>\n",
       "      <td>6.069520e+05</td>\n",
       "      <td>5.121740e+05</td>\n",
       "      <td>4.617040e+05</td>\n",
       "      <td>4.432010e+05</td>\n",
       "      <td>3.265740e+05</td>\n",
       "    </tr>\n",
       "    <tr>\n",
       "      <th>75%</th>\n",
       "      <td>7.738108e+05</td>\n",
       "      <td>1.098464e+06</td>\n",
       "      <td>1.313679e+06</td>\n",
       "      <td>1.132586e+06</td>\n",
       "      <td>9.287610e+05</td>\n",
       "      <td>9.800680e+05</td>\n",
       "      <td>6.743270e+05</td>\n",
       "    </tr>\n",
       "    <tr>\n",
       "      <th>max</th>\n",
       "      <td>5.628295e+06</td>\n",
       "      <td>6.476786e+06</td>\n",
       "      <td>8.699232e+06</td>\n",
       "      <td>1.053678e+07</td>\n",
       "      <td>6.044178e+06</td>\n",
       "      <td>4.799323e+06</td>\n",
       "      <td>5.961987e+06</td>\n",
       "    </tr>\n",
       "  </tbody>\n",
       "</table>\n",
       "</div>"
      ],
      "text/plain": [
       "age            0-17         18-25         26-35         36-45         46-50  \\\n",
       "count  2.180000e+02  1.069000e+03  2.053000e+03  1.167000e+03  5.310000e+02   \n",
       "mean   6.085276e+05  8.434699e+05  9.740619e+05  8.660236e+05  7.785654e+05   \n",
       "std    6.751607e+05  8.787495e+05  1.019681e+06  9.717466e+05  9.173907e+05   \n",
       "min    7.590600e+04  4.607000e+04  4.443200e+04  5.590000e+04  6.225000e+04   \n",
       "25%    1.889272e+05  2.454890e+05  2.558660e+05  2.441670e+05  2.264920e+05   \n",
       "50%    4.045175e+05  5.365670e+05  6.069520e+05  5.121740e+05  4.617040e+05   \n",
       "75%    7.738108e+05  1.098464e+06  1.313679e+06  1.132586e+06  9.287610e+05   \n",
       "max    5.628295e+06  6.476786e+06  8.699232e+06  1.053678e+07  6.044178e+06   \n",
       "\n",
       "age           51-55           55+  \n",
       "count  4.810000e+02  3.720000e+02  \n",
       "mean   7.524082e+05  5.312227e+05  \n",
       "std    7.834689e+05  6.110050e+05  \n",
       "min    4.555100e+04  4.410800e+04  \n",
       "25%    2.308950e+05  1.756450e+05  \n",
       "50%    4.432010e+05  3.265740e+05  \n",
       "75%    9.800680e+05  6.743270e+05  \n",
       "max    4.799323e+06  5.961987e+06  "
      ]
     },
     "execution_count": 10,
     "metadata": {},
     "output_type": "execute_result"
    }
   ],
   "source": [
    "pa_by_age.describe()"
   ]
  },
  {
   "cell_type": "code",
   "execution_count": 11,
   "metadata": {},
   "outputs": [
    {
     "data": {
      "image/png": "[encoded data removed]",
      "text/plain": [
       "<Figure size 432x288 with 1 Axes>"
      ]
     },
     "metadata": {
      "needs_background": "light"
     },
     "output_type": "display_data"
    }
   ],
   "source": [
    "_=sns.boxplot(data=pa_by_age)\n",
    "_=plt.xlabel('Age')\n",
    "_=plt.ylabel('Purchase amount')\n",
    "_=plt.title('Boxplot of Purchase Amount By Ages')"
   ]
  },
  {
   "cell_type": "markdown",
   "metadata": {},
   "source": [
    "### 4) Summary"
   ]
  },
  {
   "cell_type": "markdown",
   "metadata": {},
   "source": [
    "Age 26-35 has the largest number of customers. Age 0-17 has the smallest number of customers. The second least customers are in the age range of 55+. The number of 26-35 customers is 9.4 times that of 0-17 customers, 5.5 times that of 55+ customers.\n",
    "\n",
    "The mean of purchase amounts by 26-35 customers is the largest, while the mean of purchase amounts by 55+ customers is the smallest.\n",
    "\n",
    "The median of purchase amounts by 26-35 customers is the largest, while the median of purchase amounts by 55+ customers is the smallest."
   ]
  },
  {
   "cell_type": "markdown",
   "metadata": {},
   "source": [
    "## 5. Purchase amounts variation among cities"
   ]
  },
  {
   "cell_type": "markdown",
   "metadata": {},
   "source": [
    "To understand how purchase amounts vary with cities, purchase amounts are investigated from two perspectives:\n",
    "\n",
    "$\\bullet$ Histograms are plotted to show purchase amount distributions by cities;\n",
    "\n",
    "$\\bullet$ Cumulative density function and boxplot are also plotted to provide quantitative comparisons among cities. "
   ]
  },
  {
   "cell_type": "markdown",
   "metadata": {},
   "source": [
    "### 1) Compare purchase amounts among cities"
   ]
  },
  {
   "cell_type": "code",
   "execution_count": 12,
   "metadata": {},
   "outputs": [
    {
     "data": {
      "image/png": "[encoded data removed]",
      "text/plain": [
       "<Figure size 432x288 with 1 Axes>"
      ]
     },
     "metadata": {
      "needs_background": "light"
     },
     "output_type": "display_data"
    }
   ],
   "source": [
    "pa_by_city=df.pivot_table(values='purchase',index='user_id',columns='city_category',aggfunc=np.sum)\n",
    "\n",
    "for city in pa_by_city.columns:\n",
    "    series=pa_by_city[city].dropna()\n",
    "    n_bins=int(np.sqrt(len(series)))\n",
    "    _=plt.hist(series,bins=n_bins,density='True',histtype='step',alpha=0.6)\n",
    "    \n",
    "_=plt.xlabel('Purchase amount ($)')\n",
    "_=plt.ylabel('PDF')\n",
    "_=plt.title('Purchase Amount Distribution By Cities')\n",
    "_=plt.legend(pa_by_city.columns,loc='upper right')\n",
    "plt.margins(0.02)\n",
    "plt.show()"
   ]
  },
  {
   "cell_type": "markdown",
   "metadata": {},
   "source": [
    "### 2) Compare cumulative purchase amounts among cities "
   ]
  },
  {
   "cell_type": "code",
   "execution_count": 13,
   "metadata": {},
   "outputs": [
    {
     "data": {
      "image/png": "[encoded data removed]",
      "text/plain": [
       "<Figure size 432x288 with 1 Axes>"
      ]
     },
     "metadata": {
      "needs_background": "light"
     },
     "output_type": "display_data"
    }
   ],
   "source": [
    "for city in pa_by_city.columns:\n",
    "    series=pa_by_city[city].dropna()\n",
    "    x,y=ecdf(series)\n",
    "    _=plt.plot(x,y,marker='.',linestyle='none')\n",
    "    \n",
    "_=plt.xlabel('Purchase amount ($)')\n",
    "_=plt.ylabel('ECDF')\n",
    "_=plt.title('Cumulative Purchase Amount By Cities')\n",
    "_=plt.legend(pa_by_city.columns,loc='lower right')\n",
    "plt.margins(0.02)\n",
    "plt.show()"
   ]
  },
  {
   "cell_type": "markdown",
   "metadata": {},
   "source": [
    "### 3) Summary statistics and boxplots by cities"
   ]
  },
  {
   "cell_type": "code",
   "execution_count": 14,
   "metadata": {},
   "outputs": [
    {
     "data": {
      "text/html": [
       "<div>\n",
       "<style scoped>\n",
       "    .dataframe tbody tr th:only-of-type {\n",
       "        vertical-align: middle;\n",
       "    }\n",
       "\n",
       "    .dataframe tbody tr th {\n",
       "        vertical-align: top;\n",
       "    }\n",
       "\n",
       "    .dataframe thead th {\n",
       "        text-align: right;\n",
       "    }\n",
       "</style>\n",
       "<table border=\"1\" class=\"dataframe\">\n",
       "  <thead>\n",
       "    <tr style=\"text-align: right;\">\n",
       "      <th>city_category</th>\n",
       "      <th>A</th>\n",
       "      <th>B</th>\n",
       "      <th>C</th>\n",
       "    </tr>\n",
       "  </thead>\n",
       "  <tbody>\n",
       "    <tr>\n",
       "      <th>count</th>\n",
       "      <td>1.045000e+03</td>\n",
       "      <td>1.707000e+03</td>\n",
       "      <td>3.139000e+03</td>\n",
       "    </tr>\n",
       "    <tr>\n",
       "      <th>mean</th>\n",
       "      <td>1.239874e+06</td>\n",
       "      <td>1.220522e+06</td>\n",
       "      <td>5.220032e+05</td>\n",
       "    </tr>\n",
       "    <tr>\n",
       "      <th>std</th>\n",
       "      <td>1.362553e+06</td>\n",
       "      <td>1.054555e+06</td>\n",
       "      <td>4.227543e+05</td>\n",
       "    </tr>\n",
       "    <tr>\n",
       "      <th>min</th>\n",
       "      <td>4.555100e+04</td>\n",
       "      <td>4.443200e+04</td>\n",
       "      <td>4.410800e+04</td>\n",
       "    </tr>\n",
       "    <tr>\n",
       "      <th>25%</th>\n",
       "      <td>2.817800e+05</td>\n",
       "      <td>3.557245e+05</td>\n",
       "      <td>1.968935e+05</td>\n",
       "    </tr>\n",
       "    <tr>\n",
       "      <th>50%</th>\n",
       "      <td>7.301310e+05</td>\n",
       "      <td>8.733460e+05</td>\n",
       "      <td>3.780370e+05</td>\n",
       "    </tr>\n",
       "    <tr>\n",
       "      <th>75%</th>\n",
       "      <td>1.672669e+06</td>\n",
       "      <td>1.876029e+06</td>\n",
       "      <td>7.270770e+05</td>\n",
       "    </tr>\n",
       "    <tr>\n",
       "      <th>max</th>\n",
       "      <td>1.053678e+07</td>\n",
       "      <td>5.327346e+06</td>\n",
       "      <td>2.456078e+06</td>\n",
       "    </tr>\n",
       "  </tbody>\n",
       "</table>\n",
       "</div>"
      ],
      "text/plain": [
       "city_category             A             B             C\n",
       "count          1.045000e+03  1.707000e+03  3.139000e+03\n",
       "mean           1.239874e+06  1.220522e+06  5.220032e+05\n",
       "std            1.362553e+06  1.054555e+06  4.227543e+05\n",
       "min            4.555100e+04  4.443200e+04  4.410800e+04\n",
       "25%            2.817800e+05  3.557245e+05  1.968935e+05\n",
       "50%            7.301310e+05  8.733460e+05  3.780370e+05\n",
       "75%            1.672669e+06  1.876029e+06  7.270770e+05\n",
       "max            1.053678e+07  5.327346e+06  2.456078e+06"
      ]
     },
     "execution_count": 14,
     "metadata": {},
     "output_type": "execute_result"
    }
   ],
   "source": [
    "pa_by_city.describe()"
   ]
  },
  {
   "cell_type": "code",
   "execution_count": 15,
   "metadata": {},
   "outputs": [
    {
     "data": {
      "image/png": "[encoded data removed]",
      "text/plain": [
       "<Figure size 432x288 with 1 Axes>"
      ]
     },
     "metadata": {
      "needs_background": "light"
     },
     "output_type": "display_data"
    }
   ],
   "source": [
    "_=sns.boxplot(data=pa_by_city)\n",
    "_=plt.xlabel('City')\n",
    "_=plt.ylabel('Purchase amount')\n",
    "_=plt.title('Boxplot of Purchase Amount By Cities')"
   ]
  },
  {
   "cell_type": "markdown",
   "metadata": {},
   "source": [
    "### 4) Summary"
   ]
  },
  {
   "cell_type": "markdown",
   "metadata": {},
   "source": [
    "City C has the largest number of customers but the mean or median of the purchase amount is the least. The number of customers of city C is about 1.8 times that of city B, 3 times that of city A. The mean purchase amount of city C is about 0.4 times that of city B or city A. The median purchase amount of city C is 0.4 times that of city B, 0.5 times that of city A.\n",
    "\n",
    "City A has the smallest number of customers, but the largest purchase amounts occur in city A. City A and city B has similar mean value and similar median value. "
   ]
  },
  {
   "cell_type": "markdown",
   "metadata": {},
   "source": [
    "## 6. Purchase amounts variation among marital statuses"
   ]
  },
  {
   "cell_type": "markdown",
   "metadata": {},
   "source": [
    "To understand how purchase amounts vary with marital statuses, purchase amounts are investigated from two perspectives:\n",
    "\n",
    "$\\bullet$ Histograms are plotted to show purchase amount distributions by marital statuses;\n",
    "\n",
    "$\\bullet$ Cumulative density function and boxplot are also plotted to provide quantitative comparisons among marital statuses. "
   ]
  },
  {
   "cell_type": "markdown",
   "metadata": {},
   "source": [
    "### 1) Compare purchase amounts among marital statuses"
   ]
  },
  {
   "cell_type": "code",
   "execution_count": 16,
   "metadata": {},
   "outputs": [
    {
     "data": {
      "image/png": "[encoded data removed]",
      "text/plain": [
       "<Figure size 432x288 with 1 Axes>"
      ]
     },
     "metadata": {
      "needs_background": "light"
     },
     "output_type": "display_data"
    }
   ],
   "source": [
    "pa_by_status=df.pivot_table(values='purchase',index='user_id',columns='marital_status',aggfunc=np.sum)\n",
    "\n",
    "for status in pa_by_status.columns:\n",
    "    series=pa_by_status[status].dropna()\n",
    "    n_bins=int(np.sqrt(len(series)))\n",
    "    _=plt.hist(series,bins=n_bins,density='True',histtype='step',alpha=0.6)\n",
    "    \n",
    "_=plt.xlabel('Purchase amount ($)')\n",
    "_=plt.ylabel('PDF')\n",
    "_=plt.title('Purchase Amount Distribution By Marital Statuses')\n",
    "_=plt.legend(pa_by_status.columns,loc='upper right')\n",
    "plt.margins(0.02)\n",
    "plt.show()"
   ]
  },
  {
   "cell_type": "markdown",
   "metadata": {},
   "source": [
    "### 2) Compare cumulative purchase amounts among marital statuses "
   ]
  },
  {
   "cell_type": "code",
   "execution_count": 17,
   "metadata": {},
   "outputs": [
    {
     "data": {
      "image/png": "[encoded data removed]",
      "text/plain": [
       "<Figure size 432x288 with 1 Axes>"
      ]
     },
     "metadata": {
      "needs_background": "light"
     },
     "output_type": "display_data"
    }
   ],
   "source": [
    "for status in pa_by_status.columns:\n",
    "    series=pa_by_status[status].dropna()\n",
    "    x,y=ecdf(series)\n",
    "    _=plt.plot(x,y,marker='.',linestyle='none')\n",
    "    \n",
    "_=plt.xlabel('Purchase amount ($)')\n",
    "_=plt.ylabel('ECDF')\n",
    "_=plt.title('Cumulative Purchase Amount By Marital Statuses')\n",
    "_=plt.legend(pa_by_status.columns,loc='lower right')\n",
    "plt.margins(0.02)\n",
    "plt.show()"
   ]
  },
  {
   "cell_type": "markdown",
   "metadata": {},
   "source": [
    "### 3) Summary statistics and boxplots by marital statuses"
   ]
  },
  {
   "cell_type": "code",
   "execution_count": 18,
   "metadata": {},
   "outputs": [
    {
     "data": {
      "text/html": [
       "<div>\n",
       "<style scoped>\n",
       "    .dataframe tbody tr th:only-of-type {\n",
       "        vertical-align: middle;\n",
       "    }\n",
       "\n",
       "    .dataframe tbody tr th {\n",
       "        vertical-align: top;\n",
       "    }\n",
       "\n",
       "    .dataframe thead th {\n",
       "        text-align: right;\n",
       "    }\n",
       "</style>\n",
       "<table border=\"1\" class=\"dataframe\">\n",
       "  <thead>\n",
       "    <tr style=\"text-align: right;\">\n",
       "      <th>marital_status</th>\n",
       "      <th>0</th>\n",
       "      <th>1</th>\n",
       "    </tr>\n",
       "  </thead>\n",
       "  <tbody>\n",
       "    <tr>\n",
       "      <th>count</th>\n",
       "      <td>3.417000e+03</td>\n",
       "      <td>2.474000e+03</td>\n",
       "    </tr>\n",
       "    <tr>\n",
       "      <th>mean</th>\n",
       "      <td>8.680976e+05</td>\n",
       "      <td>8.291750e+05</td>\n",
       "    </tr>\n",
       "    <tr>\n",
       "      <th>std</th>\n",
       "      <td>9.410755e+05</td>\n",
       "      <td>9.214375e+05</td>\n",
       "    </tr>\n",
       "    <tr>\n",
       "      <th>min</th>\n",
       "      <td>4.443200e+04</td>\n",
       "      <td>4.410800e+04</td>\n",
       "    </tr>\n",
       "    <tr>\n",
       "      <th>25%</th>\n",
       "      <td>2.393670e+05</td>\n",
       "      <td>2.312942e+05</td>\n",
       "    </tr>\n",
       "    <tr>\n",
       "      <th>50%</th>\n",
       "      <td>5.357920e+05</td>\n",
       "      <td>4.965680e+05</td>\n",
       "    </tr>\n",
       "    <tr>\n",
       "      <th>75%</th>\n",
       "      <td>1.116522e+06</td>\n",
       "      <td>1.076033e+06</td>\n",
       "    </tr>\n",
       "    <tr>\n",
       "      <th>max</th>\n",
       "      <td>1.053678e+07</td>\n",
       "      <td>8.699232e+06</td>\n",
       "    </tr>\n",
       "  </tbody>\n",
       "</table>\n",
       "</div>"
      ],
      "text/plain": [
       "marital_status             0             1\n",
       "count           3.417000e+03  2.474000e+03\n",
       "mean            8.680976e+05  8.291750e+05\n",
       "std             9.410755e+05  9.214375e+05\n",
       "min             4.443200e+04  4.410800e+04\n",
       "25%             2.393670e+05  2.312942e+05\n",
       "50%             5.357920e+05  4.965680e+05\n",
       "75%             1.116522e+06  1.076033e+06\n",
       "max             1.053678e+07  8.699232e+06"
      ]
     },
     "execution_count": 18,
     "metadata": {},
     "output_type": "execute_result"
    }
   ],
   "source": [
    "pa_by_status.describe()"
   ]
  },
  {
   "cell_type": "code",
   "execution_count": 19,
   "metadata": {},
   "outputs": [
    {
     "data": {
      "image/png": "[encoded data removed]",
      "text/plain": [
       "<Figure size 432x288 with 1 Axes>"
      ]
     },
     "metadata": {
      "needs_background": "light"
     },
     "output_type": "display_data"
    }
   ],
   "source": [
    "_=sns.boxplot(data=pa_by_status)\n",
    "_=plt.xlabel('Marital Status')\n",
    "_=plt.ylabel('Purchase amount')\n",
    "_=plt.title('Boxplot of Purchase Amount By Marital Statuses')"
   ]
  },
  {
   "cell_type": "markdown",
   "metadata": {},
   "source": [
    "### 4) Summary"
   ]
  },
  {
   "cell_type": "markdown",
   "metadata": {},
   "source": [
    "Marital status 0 and 1 have very similar distributions and similar statistics."
   ]
  },
  {
   "cell_type": "markdown",
   "metadata": {},
   "source": [
    "## 7. Purchase amounts variation among years staying in current city"
   ]
  },
  {
   "cell_type": "markdown",
   "metadata": {},
   "source": [
    "To understand how purchase amounts vary with years staying in current city, purchase amounts are investigated from two perspectives:\n",
    "\n",
    "$\\bullet$ Histograms are plotted to show purchase amount distributions by years staying in current city;\n",
    "\n",
    "$\\bullet$ Cumulative density function and boxplot are also plotted to provide quantitative comparisons among years staying in current city. "
   ]
  },
  {
   "cell_type": "markdown",
   "metadata": {},
   "source": [
    "### 1) Compare purchase amounts among years staying in current city"
   ]
  },
  {
   "cell_type": "code",
   "execution_count": 38,
   "metadata": {},
   "outputs": [
    {
     "data": {
      "image/png": "[encoded data removed]",
      "text/plain": [
       "<Figure size 432x288 with 1 Axes>"
      ]
     },
     "metadata": {
      "needs_background": "light"
     },
     "output_type": "display_data"
    }
   ],
   "source": [
    "pa_by_years=df.pivot_table(values='purchase',index='user_id',columns='stay_in_current_city_years',aggfunc=np.sum)\n",
    "\n",
    "for years in pa_by_years.columns:\n",
    "    series=pa_by_years[years].dropna()\n",
    "    n_bins=int(np.sqrt(len(series)))\n",
    "    _=plt.hist(series,bins=n_bins,density='True',histtype='step',alpha=0.6)\n",
    "    \n",
    "_=plt.xlabel('Purchase amount ($)')\n",
    "_=plt.ylabel('PDF')\n",
    "_=plt.title('Purchase Amount Distribution By Years Staying')\n",
    "_=plt.legend(pa_by_years.columns,loc='upper right')\n",
    "plt.margins(0.02)\n",
    "plt.show()"
   ]
  },
  {
   "cell_type": "markdown",
   "metadata": {},
   "source": [
    "### 2) Compare cumulative purchase amounts among years staying in current city "
   ]
  },
  {
   "cell_type": "code",
   "execution_count": 40,
   "metadata": {},
   "outputs": [
    {
     "data": {
      "image/png": "[encoded data removed]",
      "text/plain": [
       "<Figure size 432x288 with 1 Axes>"
      ]
     },
     "metadata": {
      "needs_background": "light"
     },
     "output_type": "display_data"
    }
   ],
   "source": [
    "for years in pa_by_years.columns:\n",
    "    series=pa_by_years[years].dropna()\n",
    "    x,y=ecdf(series)\n",
    "    _=plt.plot(x,y,marker='.',linestyle='none')\n",
    "    \n",
    "_=plt.xlabel('Purchase amount ($)')\n",
    "_=plt.ylabel('ECDF')\n",
    "_=plt.title('Cumulative Purchase Amount By Years Staying')\n",
    "_=plt.legend(pa_by_years.columns,loc='lower right')\n",
    "plt.margins(0.02)\n",
    "plt.show()"
   ]
  },
  {
   "cell_type": "markdown",
   "metadata": {},
   "source": [
    "### 3) Summary statistics and boxplots by years staying in current city"
   ]
  },
  {
   "cell_type": "code",
   "execution_count": 41,
   "metadata": {},
   "outputs": [
    {
     "data": {
      "text/html": [
       "<div>\n",
       "<style scoped>\n",
       "    .dataframe tbody tr th:only-of-type {\n",
       "        vertical-align: middle;\n",
       "    }\n",
       "\n",
       "    .dataframe tbody tr th {\n",
       "        vertical-align: top;\n",
       "    }\n",
       "\n",
       "    .dataframe thead th {\n",
       "        text-align: right;\n",
       "    }\n",
       "</style>\n",
       "<table border=\"1\" class=\"dataframe\">\n",
       "  <thead>\n",
       "    <tr style=\"text-align: right;\">\n",
       "      <th>stay_in_current_city_years</th>\n",
       "      <th>0</th>\n",
       "      <th>1</th>\n",
       "      <th>2</th>\n",
       "      <th>3</th>\n",
       "      <th>4+</th>\n",
       "    </tr>\n",
       "  </thead>\n",
       "  <tbody>\n",
       "    <tr>\n",
       "      <th>count</th>\n",
       "      <td>7.720000e+02</td>\n",
       "      <td>2.086000e+03</td>\n",
       "      <td>1.145000e+03</td>\n",
       "      <td>9.790000e+02</td>\n",
       "      <td>9.090000e+02</td>\n",
       "    </tr>\n",
       "    <tr>\n",
       "      <th>mean</th>\n",
       "      <td>8.711210e+05</td>\n",
       "      <td>8.452751e+05</td>\n",
       "      <td>8.163115e+05</td>\n",
       "      <td>8.912473e+05</td>\n",
       "      <td>8.522676e+05</td>\n",
       "    </tr>\n",
       "    <tr>\n",
       "      <th>std</th>\n",
       "      <td>1.016661e+06</td>\n",
       "      <td>9.139840e+05</td>\n",
       "      <td>8.434174e+05</td>\n",
       "      <td>9.977810e+05</td>\n",
       "      <td>9.373054e+05</td>\n",
       "    </tr>\n",
       "    <tr>\n",
       "      <th>min</th>\n",
       "      <td>4.443200e+04</td>\n",
       "      <td>4.555100e+04</td>\n",
       "      <td>4.910400e+04</td>\n",
       "      <td>4.410800e+04</td>\n",
       "      <td>4.607000e+04</td>\n",
       "    </tr>\n",
       "    <tr>\n",
       "      <th>25%</th>\n",
       "      <td>2.292452e+05</td>\n",
       "      <td>2.326798e+05</td>\n",
       "      <td>2.394130e+05</td>\n",
       "      <td>2.380620e+05</td>\n",
       "      <td>2.435350e+05</td>\n",
       "    </tr>\n",
       "    <tr>\n",
       "      <th>50%</th>\n",
       "      <td>5.259885e+05</td>\n",
       "      <td>5.097190e+05</td>\n",
       "      <td>4.922350e+05</td>\n",
       "      <td>5.428070e+05</td>\n",
       "      <td>5.202030e+05</td>\n",
       "    </tr>\n",
       "    <tr>\n",
       "      <th>75%</th>\n",
       "      <td>1.065989e+06</td>\n",
       "      <td>1.115229e+06</td>\n",
       "      <td>1.092133e+06</td>\n",
       "      <td>1.132382e+06</td>\n",
       "      <td>1.075149e+06</td>\n",
       "    </tr>\n",
       "    <tr>\n",
       "      <th>max</th>\n",
       "      <td>1.053678e+07</td>\n",
       "      <td>7.577505e+06</td>\n",
       "      <td>5.985405e+06</td>\n",
       "      <td>8.699232e+06</td>\n",
       "      <td>6.511302e+06</td>\n",
       "    </tr>\n",
       "  </tbody>\n",
       "</table>\n",
       "</div>"
      ],
      "text/plain": [
       "stay_in_current_city_years             0             1             2  \\\n",
       "count                       7.720000e+02  2.086000e+03  1.145000e+03   \n",
       "mean                        8.711210e+05  8.452751e+05  8.163115e+05   \n",
       "std                         1.016661e+06  9.139840e+05  8.434174e+05   \n",
       "min                         4.443200e+04  4.555100e+04  4.910400e+04   \n",
       "25%                         2.292452e+05  2.326798e+05  2.394130e+05   \n",
       "50%                         5.259885e+05  5.097190e+05  4.922350e+05   \n",
       "75%                         1.065989e+06  1.115229e+06  1.092133e+06   \n",
       "max                         1.053678e+07  7.577505e+06  5.985405e+06   \n",
       "\n",
       "stay_in_current_city_years             3            4+  \n",
       "count                       9.790000e+02  9.090000e+02  \n",
       "mean                        8.912473e+05  8.522676e+05  \n",
       "std                         9.977810e+05  9.373054e+05  \n",
       "min                         4.410800e+04  4.607000e+04  \n",
       "25%                         2.380620e+05  2.435350e+05  \n",
       "50%                         5.428070e+05  5.202030e+05  \n",
       "75%                         1.132382e+06  1.075149e+06  \n",
       "max                         8.699232e+06  6.511302e+06  "
      ]
     },
     "execution_count": 41,
     "metadata": {},
     "output_type": "execute_result"
    }
   ],
   "source": [
    "pa_by_years.describe()"
   ]
  },
  {
   "cell_type": "code",
   "execution_count": 42,
   "metadata": {},
   "outputs": [
    {
     "data": {
      "image/png": "[encoded data removed]",
      "text/plain": [
       "<Figure size 432x288 with 1 Axes>"
      ]
     },
     "metadata": {
      "needs_background": "light"
     },
     "output_type": "display_data"
    }
   ],
   "source": [
    "_=sns.boxplot(data=pa_by_years)\n",
    "_=plt.xlabel('Years Staying')\n",
    "_=plt.ylabel('Purchase amount')\n",
    "_=plt.title('Boxplot of Purchase Amount By Years Staying')"
   ]
  },
  {
   "cell_type": "markdown",
   "metadata": {},
   "source": [
    "### 4) Summary"
   ]
  },
  {
   "cell_type": "markdown",
   "metadata": {},
   "source": [
    "For different years staying in current city, purchase amounts have very similar distributions and similar statistics. Possible reasons are the retail store is a chain store. It's easy for people living in different cities to get access."
   ]
  },
  {
   "cell_type": "markdown",
   "metadata": {},
   "source": [
    "## 8. Rank purchase amounts of different product categories by genders"
   ]
  },
  {
   "cell_type": "markdown",
   "metadata": {},
   "source": [
    "### 1) Purchase amount comparison among different product categories by genders"
   ]
  },
  {
   "cell_type": "code",
   "execution_count": 96,
   "metadata": {},
   "outputs": [
    {
     "data": {
      "image/png": "[encoded data removed]",
      "text/plain": [
       "<Figure size 432x288 with 1 Axes>"
      ]
     },
     "metadata": {
      "needs_background": "light"
     },
     "output_type": "display_data"
    }
   ],
   "source": [
    "pc_by_gender=pd.melt(df,id_vars=['gender','purchase'],value_vars=['product_category_1','product_category_2','product_category_3'])\n",
    "pc_by_gender_r=pc_by_gender.pivot_table(index='value',columns='gender',values='purchase',aggfunc=np.sum)\n",
    "for gender in pc_by_gender_r.columns:\n",
    "    _=plt.plot(pc_by_gender_r.index[1:],pc_by_gender_r[gender][1:],marker='x',linestyle='none')\n",
    " \n",
    "plt.xlim(1,18)\n",
    "_=plt.xlabel('Product Category')\n",
    "_=plt.ylabel('Purchase Amount')\n",
    "_=plt.legend(pc_by_gender_r.columns,loc='upper right')"
   ]
  },
  {
   "cell_type": "markdown",
   "metadata": {},
   "source": [
    "### 2) Rank purchase amount for different product categories by genders"
   ]
  },
  {
   "cell_type": "code",
   "execution_count": 94,
   "metadata": {},
   "outputs": [
    {
     "name": "stdout",
     "output_type": "stream",
     "text": [
      "value\n",
      "8     435915604\n",
      "5     359932845\n",
      "1     331792660\n",
      "16    200853458\n",
      "14    195375887\n",
      "2     187844366\n",
      "15    132635419\n",
      "6     115233359\n",
      "4      91634657\n",
      "3      68281895\n",
      "17     61507118\n",
      "11     48462721\n",
      "13     41171384\n",
      "10     39031022\n",
      "9      38222008\n",
      "12     37883321\n",
      "7      16146938\n",
      "18     14432077\n",
      "Name: F, dtype: int64\n",
      "value\n",
      "1     1550873665\n",
      "8     1214248205\n",
      "5      999394184\n",
      "16     766272186\n",
      "2      737048486\n",
      "15     686250150\n",
      "6      454566466\n",
      "14     391396263\n",
      "17     261651181\n",
      "4      211052452\n",
      "11     209824146\n",
      "3      172340341\n",
      "13     134041842\n",
      "10     129787779\n",
      "9      127815837\n",
      "12      84404075\n",
      "18      70417090\n",
      "7       48141770\n",
      "Name: M, dtype: int64\n"
     ]
    }
   ],
   "source": [
    "for gender in pc_by_gender_r.columns:\n",
    "    print(pc_by_gender_r[1:].sort_values(by=gender,ascending=False)[gender])"
   ]
  },
  {
   "cell_type": "markdown",
   "metadata": {},
   "source": [
    "### 3) Summary"
   ]
  },
  {
   "cell_type": "markdown",
   "metadata": {},
   "source": [
    "Overall, rankings for different product categories are similar between females and males. \n",
    "\n",
    "For most product categories, purchase amount by males is slight larger than that by females.\n",
    "\n",
    "For several product categories, purchase amount by males is much larger than that by females."
   ]
  },
  {
   "cell_type": "markdown",
   "metadata": {},
   "source": [
    "## 9. Rank purchase amounts of different product categories by ages"
   ]
  },
  {
   "cell_type": "markdown",
   "metadata": {},
   "source": [
    "### 1) Purchase amount comparison among different product categories by ages"
   ]
  },
  {
   "cell_type": "code",
   "execution_count": 98,
   "metadata": {},
   "outputs": [
    {
     "data": {
      "image/png": "[encoded data removed]",
      "text/plain": [
       "<Figure size 432x288 with 1 Axes>"
      ]
     },
     "metadata": {
      "needs_background": "light"
     },
     "output_type": "display_data"
    }
   ],
   "source": [
    "pc_by_age=pd.melt(df,id_vars=['age','purchase'],value_vars=['product_category_1','product_category_2','product_category_3'])\n",
    "pc_by_age_r=pc_by_age.pivot_table(index='value',columns='age',values='purchase',aggfunc=np.sum)\n",
    "for age in pc_by_age_r.columns:\n",
    "    _=plt.plot(pc_by_age_r.index[1:],pc_by_age_r[age][1:],marker='x',linestyle='none')\n",
    " \n",
    "plt.xlim(1,18)\n",
    "_=plt.xlabel('Product Category')\n",
    "_=plt.ylabel('Purchase Amount')\n",
    "_=plt.legend(pc_by_age_r.columns,loc='upper right',ncol=2)"
   ]
  },
  {
   "cell_type": "markdown",
   "metadata": {},
   "source": [
    "### 2) Rank purchase amount for different product categories by ages"
   ]
  },
  {
   "cell_type": "code",
   "execution_count": 99,
   "metadata": {},
   "outputs": [
    {
     "name": "stdout",
     "output_type": "stream",
     "text": [
      "value\n",
      "1     47991135\n",
      "5     41358395\n",
      "8     33996380\n",
      "2     27623638\n",
      "16    25326890\n",
      "15    20828292\n",
      "4     17224453\n",
      "14    14066165\n",
      "3     12920277\n",
      "6     11580551\n",
      "11     7443435\n",
      "17     7094471\n",
      "9      5740707\n",
      "12     4631877\n",
      "13     3829082\n",
      "10     3362912\n",
      "18     1470104\n",
      "7       858825\n",
      "Name: 0-17, dtype: int64\n",
      "value\n",
      "1     358094787\n",
      "8     267714310\n",
      "5     261086977\n",
      "16    179243293\n",
      "2     178226939\n",
      "15    143973003\n",
      "6     106450187\n",
      "14    100198202\n",
      "4      68834265\n",
      "3      55138404\n",
      "11     49219124\n",
      "17     49009698\n",
      "9      35313757\n",
      "13     27927894\n",
      "12     22414458\n",
      "10     20549675\n",
      "18     12181454\n",
      "7       8358459\n",
      "Name: 18-25, dtype: int64\n",
      "value\n",
      "1     772524798\n",
      "8     647047186\n",
      "5     551218029\n",
      "16    397846580\n",
      "2     364054160\n",
      "15    331894557\n",
      "6     237523719\n",
      "14    231283670\n",
      "17    116464872\n",
      "4     110299263\n",
      "11    106033291\n",
      "3      93019723\n",
      "13     65510440\n",
      "9      65317911\n",
      "10     60023796\n",
      "12     45486002\n",
      "18     29246384\n",
      "7      28426618\n",
      "Name: 26-35, dtype: int64\n",
      "value\n",
      "1     374646337\n",
      "8     336216805\n",
      "5     266379235\n",
      "16    190226544\n",
      "2     184897983\n",
      "15    173768986\n",
      "14    117104243\n",
      "6     108417825\n",
      "17     68946233\n",
      "4      59618877\n",
      "11     52079645\n",
      "3      46274602\n",
      "10     39264920\n",
      "13     35861938\n",
      "9      32965659\n",
      "12     25809902\n",
      "18     18659109\n",
      "7      14028450\n",
      "Name: 36-45, dtype: int64\n",
      "value\n",
      "8     147181631\n",
      "1     141847516\n",
      "5     104866111\n",
      "16     74009240\n",
      "2      73764532\n",
      "15     67272275\n",
      "14     52909445\n",
      "6      44097337\n",
      "17     32480596\n",
      "4      22358210\n",
      "11     21614680\n",
      "10     16976387\n",
      "13     16719123\n",
      "3      16291240\n",
      "9      11899379\n",
      "12     10745749\n",
      "18      8552490\n",
      "7       5695236\n",
      "Name: 46-50, dtype: int64\n",
      "value\n",
      "8     133707956\n",
      "1     126429266\n",
      "5      88299839\n",
      "16     66442595\n",
      "2      64793344\n",
      "15     57173725\n",
      "14     45395490\n",
      "6      38929546\n",
      "17     30329404\n",
      "10     17364217\n",
      "4      16239731\n",
      "11     15458932\n",
      "13     15313143\n",
      "3      11105311\n",
      "9      10366754\n",
      "18      9502818\n",
      "12      8244416\n",
      "7       4561436\n",
      "Name: 51-55, dtype: int64\n",
      "value\n",
      "8     84299541\n",
      "1     61132486\n",
      "5     46118443\n",
      "16    34030502\n",
      "2     31532256\n",
      "14    25814935\n",
      "15    23974731\n",
      "6     22800660\n",
      "17    18833025\n",
      "10    11276894\n",
      "13    10051606\n",
      "4      8112310\n",
      "11     6437760\n",
      "3      5872679\n",
      "18     5236808\n",
      "12     4954992\n",
      "9      4433678\n",
      "7      2359684\n",
      "Name: 55+, dtype: int64\n"
     ]
    }
   ],
   "source": [
    "for age in pc_by_age_r.columns:\n",
    "    print(pc_by_age_r[1:].sort_values(by=age,ascending=False)[age])"
   ]
  },
  {
   "cell_type": "markdown",
   "metadata": {},
   "source": [
    "### 3) Summary"
   ]
  },
  {
   "cell_type": "markdown",
   "metadata": {},
   "source": [
    "Overall, rankings for different product categories are similar among different ages. \n",
    "\n",
    "For several product categories, purchase amount by 26-35 customers is much larger than that by other ages. This is consistent with the total purchase amount comparison."
   ]
  },
  {
   "cell_type": "markdown",
   "metadata": {},
   "source": [
    "## 10. Rank purchase amounts of different product categories by cities"
   ]
  },
  {
   "cell_type": "markdown",
   "metadata": {},
   "source": [
    "### 1) Purchase amount comparison among different product categories by cities"
   ]
  },
  {
   "cell_type": "code",
   "execution_count": 104,
   "metadata": {},
   "outputs": [
    {
     "data": {
      "image/png": "[encoded data removed]",
      "text/plain": [
       "<Figure size 432x288 with 1 Axes>"
      ]
     },
     "metadata": {
      "needs_background": "light"
     },
     "output_type": "display_data"
    }
   ],
   "source": [
    "pc_by_city=pd.melt(df,id_vars=['city_category','purchase'],value_vars=['product_category_1','product_category_2','product_category_3'])\n",
    "pc_by_city_r=pc_by_city.pivot_table(index='value',columns='city_category',values='purchase',aggfunc=np.sum)\n",
    "for city in pc_by_city_r.columns:\n",
    "    _=plt.plot(pc_by_city_r.index[1:],pc_by_city_r[city][1:],marker='x',linestyle='none')\n",
    " \n",
    "plt.xlim(1,18)\n",
    "_=plt.xlabel('Product Category')\n",
    "_=plt.ylabel('Purchase Amount')\n",
    "_=plt.legend(pc_by_city_r.columns,loc='upper right')"
   ]
  },
  {
   "cell_type": "markdown",
   "metadata": {},
   "source": [
    "### 2) Rank purchase amount for different product categories by cities"
   ]
  },
  {
   "cell_type": "code",
   "execution_count": 105,
   "metadata": {},
   "outputs": [
    {
     "name": "stdout",
     "output_type": "stream",
     "text": [
      "value\n",
      "1     451018860\n",
      "8     438028158\n",
      "5     359649470\n",
      "16    246116770\n",
      "2     220054736\n",
      "15    196325076\n",
      "14    156141652\n",
      "6     148345899\n",
      "17     73553086\n",
      "4      73343588\n",
      "11     65659865\n",
      "3      58234965\n",
      "13     45343780\n",
      "10     43013477\n",
      "9      38576145\n",
      "12     31901078\n",
      "7      20844315\n",
      "18     20262745\n",
      "Name: A, dtype: int64\n",
      "value\n",
      "1     771411492\n",
      "8     681477527\n",
      "5     568020834\n",
      "16    397691957\n",
      "2     381602509\n",
      "15    333758057\n",
      "14    243036302\n",
      "6     235622279\n",
      "17    131372826\n",
      "4     130901842\n",
      "11    108307340\n",
      "3     101014539\n",
      "13     70131231\n",
      "9      68935122\n",
      "10     67453863\n",
      "12     53565310\n",
      "18     35406250\n",
      "7      27606195\n",
      "Name: B, dtype: int64\n",
      "value\n",
      "1     660235973\n",
      "8     530658124\n",
      "5     431656725\n",
      "16    323316917\n",
      "2     323235607\n",
      "15    288802436\n",
      "14    187594196\n",
      "6     185831647\n",
      "17    118232387\n",
      "4      98441679\n",
      "11     84319662\n",
      "3      81372732\n",
      "13     59738215\n",
      "9      58526578\n",
      "10     58351461\n",
      "12     36821008\n",
      "18     29180172\n",
      "7      15838198\n",
      "Name: C, dtype: int64\n"
     ]
    }
   ],
   "source": [
    "for city in pc_by_city_r.columns:\n",
    "    print(pc_by_city_r[1:].sort_values(by=city,ascending=False)[city])"
   ]
  },
  {
   "cell_type": "markdown",
   "metadata": {},
   "source": [
    "### 3) Summary"
   ]
  },
  {
   "cell_type": "markdown",
   "metadata": {},
   "source": [
    "Rankings of purchase amounts for different product categories are very similar for different cites.\n",
    "\n",
    "For most product categories, difference of purchase amounts among cities is small.\n",
    "\n",
    "For several product categories, difference of purchase amounts among cities is large."
   ]
  },
  {
   "cell_type": "markdown",
   "metadata": {},
   "source": [
    "## 11. Rank purchase amounts of different product categories by marital statuses"
   ]
  },
  {
   "cell_type": "markdown",
   "metadata": {},
   "source": [
    "### 1) Purchase amount comparison among different product categories by marital statuses"
   ]
  },
  {
   "cell_type": "code",
   "execution_count": 106,
   "metadata": {},
   "outputs": [
    {
     "data": {
      "image/png": "[encoded data removed]",
      "text/plain": [
       "<Figure size 432x288 with 1 Axes>"
      ]
     },
     "metadata": {
      "needs_background": "light"
     },
     "output_type": "display_data"
    }
   ],
   "source": [
    "pc_by_status=pd.melt(df,id_vars=['marital_status','purchase'],value_vars=['product_category_1','product_category_2','product_category_3'])\n",
    "pc_by_status_r=pc_by_status.pivot_table(index='value',columns='marital_status',values='purchase',aggfunc=np.sum)\n",
    "for status in pc_by_status_r.columns:\n",
    "    _=plt.plot(pc_by_status_r.index[1:],pc_by_status_r[status][1:],marker='x',linestyle='none')\n",
    " \n",
    "plt.xlim(1,18)\n",
    "_=plt.xlabel('Product Category')\n",
    "_=plt.ylabel('Purchase Amount')\n",
    "_=plt.legend(pc_by_status_r.columns,loc='upper right')"
   ]
  },
  {
   "cell_type": "markdown",
   "metadata": {},
   "source": [
    "### 2) Rank purchase amount for different product categories by marital statuses"
   ]
  },
  {
   "cell_type": "code",
   "execution_count": 107,
   "metadata": {},
   "outputs": [
    {
     "name": "stdout",
     "output_type": "stream",
     "text": [
      "value\n",
      "1     1131019710\n",
      "8      956988408\n",
      "5      812358034\n",
      "16     578343530\n",
      "2      556351623\n",
      "15     485557012\n",
      "14     343916804\n",
      "6      341058828\n",
      "4      185786416\n",
      "17     184490090\n",
      "11     157098606\n",
      "3      147089391\n",
      "9      102019934\n",
      "13     100525940\n",
      "10      91828336\n",
      "12      71505609\n",
      "18      47883077\n",
      "7       35420752\n",
      "Name: 0, dtype: int64\n",
      "value\n",
      "1     751646615\n",
      "8     693175401\n",
      "5     546968995\n",
      "16    388782114\n",
      "2     368541229\n",
      "15    333328557\n",
      "14    242855346\n",
      "6     228740997\n",
      "17    138668209\n",
      "4     116900693\n",
      "11    101188261\n",
      "3      93532845\n",
      "10     76990465\n",
      "13     74687286\n",
      "9      64017911\n",
      "12     50781787\n",
      "18     36966090\n",
      "7      28867956\n",
      "Name: 1, dtype: int64\n"
     ]
    }
   ],
   "source": [
    "for status in pc_by_status_r.columns:\n",
    "    print(pc_by_status_r[1:].sort_values(by=status,ascending=False)[status])"
   ]
  },
  {
   "cell_type": "markdown",
   "metadata": {},
   "source": [
    "### 3) Summary"
   ]
  },
  {
   "cell_type": "markdown",
   "metadata": {},
   "source": [
    "Rankings of purchase amounts for different product categories are very similar for different marital statuses.\n",
    "\n",
    "Overall, purchase amount of single customers for different product categories is larger than that of married customers.\n",
    "\n",
    "For most product categories, purchase amounts are similar between married customers and single customers. For several product categories, purchase amount of single customers is obviously larger than that of married customers.\n"
   ]
  },
  {
   "cell_type": "code",
   "execution_count": null,
   "metadata": {},
   "outputs": [],
   "source": []
  }
 ],
 "metadata": {
  "kernelspec": {
   "display_name": "Python 3",
   "language": "python",
   "name": "python3"
  },
  "language_info": {
   "codemirror_mode": {
    "name": "ipython",
    "version": 3
   },
   "file_extension": ".py",
   "mimetype": "text/x-python",
   "name": "python",
   "nbconvert_exporter": "python",
   "pygments_lexer": "ipython3",
   "version": "3.7.0"
  }
 },
 "nbformat": 4,
 "nbformat_minor": 2
}
